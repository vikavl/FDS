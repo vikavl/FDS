{
  "cells": [
    {
      "cell_type": "markdown",
      "id": "1171fb23",
      "metadata": {
        "id": "1171fb23",
        "tags": []
      },
      "source": [
        "# **#2 Homework: Classification**\n",
        "\n",
        "**Fundamentals of Data Science - Winter Semester 2024**\n",
        "\n",
        "##### Matteo Migliarini (TA), Matteo Rampolla (TA) and Prof. Indro Spinelli\n",
        "<migliarini.1886186@studenti.uniroma1.it>, <rampolla.1762214@studenti.uniroma1.it>, <spinelli@di.uniroma1.it>\n",
        "\n",
        "---\n",
        "\n",
        "*Note: your task is to fill in the missing code where you see `\"YOUR CODE HERE\"` and the text part `\"WRITE YOUR TEXT HERE\"` part corresponding to each subproblem and produce brief reports on the results whenever necessary. Note also that a part of this missing code is also distributed in the python files in the folder `libs/`*\n",
        "\n",
        "As part of the homework, provide the answer to questions in this notebook report-like manner.\n",
        "\n",
        "After you have implemented all the missing code in the required sections, you will be able to run all the code without any errors.\n",
        "\n",
        "We kindly ask you to double-check this since **all** the delivered homework will be executed.\n",
        "\n",
        "The completed exercise should be handed in as a single notebook file. Use Markdown to provide equations. Use the code sections to provide your scripts and the corresponding plots.\n",
        "\n",
        "-------------------------------------\n",
        "\n",
        "**Submit it** by sending an email to:\n",
        "\n",
        "<migliarini.1886186@studenti.uniroma1.it>, <rampolla.1762214@studenti.uniroma1.it> and <spinelli@di.uniroma1.it> **by 29th November, 23:59**.\n",
        "\n",
        "-------------------------------------\n",
        "\n",
        "**Outline and Scores for #2 Homework:**\n",
        "\n",
        "\n",
        "* **Question 1: Logistic Regression** *(6 points)*\n",
        "  * **1.1: Log-likelihood and Gradient Ascent rule** (1 points)\n",
        "  * **1.2: Implementation of Logistic Regression with Gradient Ascent** (2 points)\n",
        "  * **1.3: Report** (3 points)\n",
        "* **Question 2: Polynomial Expansion** *(7 points)*\n",
        "  * **2.1: Polynomial features for logistic regression** (1 points)\n",
        "  * **2.2: Plot the computed non-linear boundary** (2 point)\n",
        "  * **2.4: Penalization** (4 points)\n",
        "* **Question 3: Multinomial Classification** *(9  points)*\n",
        "  * **3.1: Softmax Regression Model** (1 point)\n",
        "  * **3.2: Coding** (3 points)\n",
        "  * **3.3: Pipeline** (2 point)\n",
        "  * **3.4: Hyperparameters** (1 point)\n",
        "  * **3.5: Report** (2 point)\n",
        "* **Question 4: First approach to CNNs** *(8 points)*\n",
        "  * **4.1: Split the CIFAR-10 dataset** (1 point)\n",
        "  * **4.2: Identify and Correct Errors in the CNN Model** (3 points)\n",
        "  * **4.3: Training procedure** (2 points)\n",
        "  * **4.4: Evaluate** (1 point)\n",
        "  * **4.5: Report** (1 point)\n",
        "* **Question 5: Improve the accuracy** (BONUS) *(5 points)*\n",
        "  * **5.1: Custom model** (3 points)\n",
        "  * **5.2: Pretrained Network** (2 points)\n",
        "\n",
        "**TOTAL POINTS ARE 35, MAXIMUM GRADE IS 30**\n",
        "\n",
        "---\n"
      ]
    },
    {
      "cell_type": "code",
      "execution_count": 1,
      "id": "a8b40d9c",
      "metadata": {
        "id": "a8b40d9c"
      },
      "outputs": [],
      "source": [
        "if True:\n",
        "    %pip install -qqq numpy scipy matplotlib pandas scikit-learn seaborn tqdm\n"
      ]
    },
    {
      "cell_type": "code",
      "execution_count": 2,
      "id": "3960c7ef",
      "metadata": {
        "id": "3960c7ef"
      },
      "outputs": [],
      "source": [
        "%matplotlib inline\n",
        "import numpy as np # imports a fast numerical programming library\n",
        "import matplotlib.pyplot as plt # sets up plotting under plt\n",
        "import pandas as pd # lets us handle data as dataframes\n",
        "import seaborn as sns\n",
        "from tqdm import tqdm\n",
        "from sklearn.model_selection import train_test_split\n",
        "from sklearn.preprocessing import StandardScaler\n",
        "from sklearn.linear_model import LogisticRegression\n",
        "from sklearn.metrics import accuracy_score\n",
        "from sklearn.metrics import confusion_matrix\n",
        "from sklearn.metrics import classification_report\n",
        "%load_ext autoreload\n",
        "%autoreload 2\n",
        "\n",
        "# sets up pandas table display\n",
        "pd.set_option('display.width', 500)\n",
        "pd.set_option('display.max_columns', 100)\n",
        "pd.set_option('display.notebook_repr_html', True)\n"
      ]
    },
    {
      "cell_type": "markdown",
      "id": "35c56914",
      "metadata": {
        "id": "35c56914"
      },
      "source": [
        "**Notation:**\n",
        "\n",
        "- $x^i$ is the $i^{th}$ feature vector\n",
        "- $y^i$ is the expected outcome for the $i^{th}$ training example\n",
        "- $m$ is the number of training examples\n",
        "- $n$ is the number of features\n",
        "\n",
        "**Let's start by setting up our Python environment and importing the required libraries:**"
      ]
    },
    {
      "cell_type": "markdown",
      "id": "306465a9",
      "metadata": {
        "id": "306465a9",
        "jp-MarkdownHeadingCollapsed": true,
        "tags": []
      },
      "source": [
        "## 1: **Logistic Regression**"
      ]
    },
    {
      "cell_type": "markdown",
      "id": "ba37beb8",
      "metadata": {
        "id": "ba37beb8"
      },
      "source": [
        "### **1.1: Log-likelihood and Gradient Ascent Rule**\n",
        "\n",
        "Write the likelihood $L(\\theta)$ and log-likelihood $l(\\theta)$ of the parameters $\\theta$.\n",
        "\n",
        "Recall the probabilistic interpretation of the hypothesis $h_\\theta(x)= P(y=1|x;\\theta)$ and that $h_\\theta(x)=\\frac{1}{1+\\exp(-\\theta^T x)}$.\n",
        "\n",
        "Also derive the gradient $\\frac{\\delta l(\\theta)}{\\delta \\theta_j}$ of $l(\\theta)$ and write the gradient update equation."
      ]
    },
    {
      "cell_type": "markdown",
      "id": "663c4718",
      "metadata": {
        "id": "663c4718"
      },
      "source": [
        "-------------------------------------------------------\n",
        "\n",
        "**WRITE YOUR EQUATIONS HERE**\n",
        "\n",
        "- **Likelihood**:\n",
        "\\begin{align}\n",
        "L(\\theta) &=\\prod_{i=1}^m P(y_i \\mid x_i; \\theta) = \\prod_{i=1}^m \\left[ h_\\theta(x_i)^{y_i} (1 - h_\\theta(x_i))^{1 - y_i} \\right].\n",
        "\\end{align}\n",
        "\n",
        "- **Log-Likelihood**:\n",
        "\n",
        "\\begin{align}\n",
        "l(\\theta) &=\\log L(\\theta) = \\log \\prod_{i=1}^m \\left[ h_\\theta(x_i)^{y_i} (1 - h_\\theta(x_i))^{1 - y_i} \\right] = \\sum_{i=1}^m \\left[ y_i \\log h_\\theta(x_i) + (1 - y_i) \\log(1 - h_\\theta(x_i)) \\right]\n",
        "\\end{align}\n",
        "\n",
        "- **Gradient of log-likelihood** (slide 5 p. 20):\n",
        "\\begin{align}\n",
        "\\frac{\\delta l(\\theta)}{\\delta \\theta_j} &= \\sum_{i=1}^m (y_i - h_\\theta(x_i)) x_{ij}\n",
        "\\end{align}\n",
        "\n",
        "- **Gradient update equation**:\n",
        "For  $j=0,...,n$:\n",
        "\\begin{equation}\n",
        "\\theta_j =\\theta_j  + \\alpha \\sum_{i=1}^m (y_i - h_\\theta(x_i)) x_{ij}\n",
        "\\end{equation}\n",
        "\n",
        "-------------------------------------------------------"
      ]
    },
    {
      "cell_type": "markdown",
      "id": "69909e04",
      "metadata": {
        "id": "69909e04"
      },
      "source": [
        "### **1.2: Logistic regression with Gradient Ascent**\n",
        "\n",
        "Define the sigmoid function `sigmoid`, then define the `LogisticRegression` class with the relative methods necessary to make predictions on an input, compute the log-likelihood and update its parameters.\n",
        "Then define a function that takes in input such $X$, $y$ and the predictions $\\hat{y} = g(\\theta^{T}x)$ and computes the gradient of the log-likelihood.\n",
        "Finally implement a function that takes in input such class and performs the training loop with the specified hyperparameters.\n",
        "\n",
        "Translate the equations you wrote above in code to learn the logistic regression parameters, $x^{(i)}_1$ and $x^{(i)}_2$ represent the two features for the $i$-th data sample $x^{(i)}$ and $y^{(i)}$ is its ground truth label.\n",
        "\n",
        "*Hint: even though by definition log likelihood and gradient ascent are defined by summations, for numerical stability it is advised to use the mean operation.*\n",
        "\n",
        "--------------------------------------------\n",
        "\n",
        "**Fill in the code in `libs/models/logisic_regression.py`, `libs/math.py/sigmoid()` and `libs/optim.py`**\n",
        "\n",
        "--------------------------------------------"
      ]
    },
    {
      "cell_type": "code",
      "execution_count": null,
      "id": "e4829929",
      "metadata": {
        "colab": {
          "base_uri": "https://localhost:8080/",
          "height": 332
        },
        "id": "e4829929",
        "outputId": "34d13c0c-ac10-4bd0-c69b-b983fe5a2100"
      },
      "outputs": [
        {
          "ename": "ModuleNotFoundError",
          "evalue": "No module named 'torch'",
          "output_type": "error",
          "traceback": [
            "\u001b[1;31m---------------------------------------------------------------------------\u001b[0m",
            "\u001b[1;31mModuleNotFoundError\u001b[0m                       Traceback (most recent call last)",
            "Cell \u001b[1;32mIn[12], line 1\u001b[0m\n\u001b[1;32m----> 1\u001b[0m \u001b[38;5;28;01mfrom\u001b[39;00m \u001b[38;5;21;01mlibs\u001b[39;00m\u001b[38;5;21;01m.\u001b[39;00m\u001b[38;5;21;01mmodels\u001b[39;00m \u001b[38;5;28;01mimport\u001b[39;00m LogisticRegression\n\u001b[0;32m      2\u001b[0m \u001b[38;5;28;01mfrom\u001b[39;00m \u001b[38;5;21;01mlibs\u001b[39;00m\u001b[38;5;21;01m.\u001b[39;00m\u001b[38;5;21;01moptim\u001b[39;00m \u001b[38;5;28;01mimport\u001b[39;00m fit\n",
            "File \u001b[1;32mc:\\Users\\vikto\\Desktop\\wf\\FDS\\Homework02\\libs\\models\\__init__.py:4\u001b[0m\n\u001b[0;32m      2\u001b[0m \u001b[38;5;28;01mfrom\u001b[39;00m \u001b[38;5;21;01m.\u001b[39;00m\u001b[38;5;21;01mlogistic_regression_penalized\u001b[39;00m \u001b[38;5;28;01mimport\u001b[39;00m LogisticRegressionPenalized\n\u001b[0;32m      3\u001b[0m \u001b[38;5;28;01mfrom\u001b[39;00m \u001b[38;5;21;01m.\u001b[39;00m\u001b[38;5;21;01mmultinomial\u001b[39;00m \u001b[38;5;28;01mimport\u001b[39;00m SoftmaxClassifier\n\u001b[1;32m----> 4\u001b[0m \u001b[38;5;28;01mfrom\u001b[39;00m \u001b[38;5;21;01m.\u001b[39;00m\u001b[38;5;21;01mcustom_cnn\u001b[39;00m \u001b[38;5;28;01mimport\u001b[39;00m CustomCNN\n\u001b[0;32m      5\u001b[0m \u001b[38;5;28;01mfrom\u001b[39;00m \u001b[38;5;21;01m.\u001b[39;00m\u001b[38;5;21;01mpoor_cnn\u001b[39;00m \u001b[38;5;28;01mimport\u001b[39;00m PoorPerformingCNN\n",
            "File \u001b[1;32mc:\\Users\\vikto\\Desktop\\wf\\FDS\\Homework02\\libs\\models\\custom_cnn.py:1\u001b[0m\n\u001b[1;32m----> 1\u001b[0m \u001b[38;5;28;01mimport\u001b[39;00m \u001b[38;5;21;01mtorch\u001b[39;00m\n\u001b[0;32m      2\u001b[0m \u001b[38;5;28;01mfrom\u001b[39;00m \u001b[38;5;21;01mtorch\u001b[39;00m \u001b[38;5;28;01mimport\u001b[39;00m nn\n\u001b[0;32m      3\u001b[0m \u001b[38;5;28;01mfrom\u001b[39;00m \u001b[38;5;21;01mtorch\u001b[39;00m\u001b[38;5;21;01m.\u001b[39;00m\u001b[38;5;21;01mnn\u001b[39;00m \u001b[38;5;28;01mimport\u001b[39;00m functional \u001b[38;5;28;01mas\u001b[39;00m F\n",
            "\u001b[1;31mModuleNotFoundError\u001b[0m: No module named 'torch'"
          ]
        }
      ],
      "source": [
        "from libs.models import LogisticRegression\n",
        "from libs.optim import fit\n"
      ]
    },
    {
      "cell_type": "markdown",
      "id": "c2ca378a",
      "metadata": {
        "id": "c2ca378a"
      },
      "source": [
        "**Check your grad_l implementation:**\n",
        "\n",
        "`LogisticRegression.log_likelihood` applied to some random vectors should provide a value for `output_test` close to the `target_value` (defined below).\n",
        "In other words, `error_test` should be close to 0.\n",
        "\n",
        "**Do not write below this line just run it**\n",
        "\n",
        "--------------------------------------------"
      ]
    },
    {
      "cell_type": "code",
      "execution_count": null,
      "id": "4df146f9",
      "metadata": {
        "id": "4df146f9"
      },
      "outputs": [],
      "source": [
        "target_value = -1\n",
        "np.random.seed(1)\n",
        "output_test = LogisticRegression.likelihood(np.random.random(100), np.random.randint(0, 2, 100))\n",
        "error_test = np.abs(output_test - target_value)\n",
        "print(\"Error: \", error_test)\n",
        "assert error_test < 0.2, \"The output is not correct\"\n"
      ]
    },
    {
      "cell_type": "markdown",
      "id": "f876a9e2",
      "metadata": {
        "id": "f876a9e2"
      },
      "source": [
        "#### Preprocessing\n",
        "<img src=\"https://allisonhorst.github.io/palmerpenguins/reference/figures/lter_penguins.png\" width=800/>\n",
        "\n",
        "Now you'll load a dataset of penguins data. The dataset contains three species of penguins (Adelie, Gentoo and Chinstrap). Your goal will be to classify a penguin species based on their bill's length and body mass. First we'll load the dataset:"
      ]
    },
    {
      "cell_type": "code",
      "execution_count": null,
      "id": "eae9d063",
      "metadata": {
        "id": "eae9d063"
      },
      "outputs": [],
      "source": [
        "data = pd.read_csv(\"assets/train.csv\")\n",
        "data.head()\n"
      ]
    },
    {
      "cell_type": "markdown",
      "id": "07ee1a83",
      "metadata": {
        "id": "07ee1a83"
      },
      "source": [
        "We want to train a classifier capable of understanding the difference between Adelie and Gentoo solely based on their bill's length and body mass. Thus in order to preprocess the data we:\n",
        "1. Drop all the items with null data.\n",
        "2. Remove the third species (Chinstrap) from the dataset.\n",
        "3. Select the features we're interested in (`bill_length`, `body_mass`).\n",
        "4. Select the label data and encode it in the values 0 and 1.\n",
        "\n",
        "<img src=\"https://allisonhorst.github.io/palmerpenguins/reference/figures/culmen_depth.png\" width=\"500\"/>"
      ]
    },
    {
      "cell_type": "code",
      "execution_count": null,
      "id": "0bda351f",
      "metadata": {
        "id": "0bda351f"
      },
      "outputs": [],
      "source": [
        "data.dropna(inplace=True)\n",
        "data = data[data[\"species\"] != \"Chinstrap\"]\n",
        "X = data[[\"bill_length\", \"body_mass\"]]\n",
        "y = data[\"species\"].map({\"Adelie\": 0, \"Gentoo\": 1}).values\n"
      ]
    },
    {
      "cell_type": "markdown",
      "id": "3b3cb402",
      "metadata": {
        "id": "3b3cb402"
      },
      "source": [
        "It is recommended to normalize data when using machine learning techniques, so now normalize $X$ to have $\\mu=0, \\sigma=1$."
      ]
    },
    {
      "cell_type": "code",
      "execution_count": null,
      "id": "b446b8f0",
      "metadata": {
        "id": "b446b8f0"
      },
      "outputs": [],
      "source": [
        "X = (X - X.mean()) / X.std()"
      ]
    },
    {
      "cell_type": "markdown",
      "id": "057099fb",
      "metadata": {
        "id": "057099fb"
      },
      "source": [
        "We add a column of 1's to $X$ to take into account the intercept."
      ]
    },
    {
      "cell_type": "code",
      "execution_count": null,
      "id": "118726ed",
      "metadata": {
        "id": "118726ed"
      },
      "outputs": [],
      "source": [
        "X[\"bias\"] = 1\n",
        "# Reordering columns to have the bias term first (convention)\n",
        "X = X[[\"bias\", \"bill_length\", \"body_mass\"]]\n",
        "X\n"
      ]
    },
    {
      "cell_type": "markdown",
      "id": "d4c6c591",
      "metadata": {
        "id": "d4c6c591"
      },
      "source": [
        "#### Training\n",
        "Now you'll use the class defined above to train a logistic regression model on classifying a group of penguins."
      ]
    },
    {
      "cell_type": "code",
      "execution_count": null,
      "id": "3d70727f",
      "metadata": {
        "id": "3d70727f"
      },
      "outputs": [],
      "source": [
        "# Initialize the model\n",
        "model = LogisticRegression(num_features=X.shape[1])\n",
        "\n",
        "# Run Gradient Ascent method\n",
        "n_iter = 50\n",
        "log_l_history, _ = fit(model, X, y, lr=0.5, num_steps=n_iter)\n"
      ]
    },
    {
      "cell_type": "markdown",
      "id": "589ba43d",
      "metadata": {
        "id": "589ba43d"
      },
      "source": [
        "Let's plot the log likelihood over different iterations:\n"
      ]
    },
    {
      "cell_type": "code",
      "execution_count": null,
      "id": "d53b2578",
      "metadata": {
        "id": "d53b2578"
      },
      "outputs": [],
      "source": [
        "plt.plot(range(len(log_l_history)), log_l_history, \"b\")\n",
        "plt.ylabel(\"log-likelihood(Theta)\")\n",
        "plt.xlabel(\"Iterations\")\n"
      ]
    },
    {
      "cell_type": "markdown",
      "id": "f333bcd8",
      "metadata": {
        "id": "f333bcd8"
      },
      "source": [
        "Plot the data and the decision boundary:"
      ]
    },
    {
      "cell_type": "code",
      "execution_count": null,
      "id": "24c2e256",
      "metadata": {
        "id": "24c2e256"
      },
      "outputs": [],
      "source": [
        "plt.figure(figsize=(6,6))\n",
        "sns.scatterplot(data=X, x=\"bill_length\", y=\"body_mass\", hue=data[\"species\"])\n",
        "\n",
        "x_range = np.linspace(X['bill_length'].min(), X['bill_length'].max(), 100)\n",
        "theta_final = model.parameters\n",
        "y_range = -(theta_final[0] + theta_final[1] * x_range) / theta_final[2]\n",
        "plt.plot(x_range, y_range, c=\"red\")\n",
        "\n",
        "plt.xlim(X['bill_length'].min() - 0.2, X['bill_length'].max() + 0.2)\n",
        "plt.ylim(X['body_mass'].min() - 0.2, X['body_mass'].max() + 0.2)\n"
      ]
    },
    {
      "cell_type": "code",
      "execution_count": null,
      "id": "df68aa89",
      "metadata": {
        "id": "df68aa89"
      },
      "outputs": [],
      "source": [
        "accuracy = ((model.predict(X) > 0.5) == y).mean()\n",
        "print(f\"Accuracy: {accuracy}\")\n",
        "assert accuracy > 0.6, \"The accuracy is too low\"\n"
      ]
    },
    {
      "cell_type": "markdown",
      "id": "dfad244e",
      "metadata": {
        "id": "dfad244e"
      },
      "source": [
        "### **1.3: Report**"
      ]
    },
    {
      "cell_type": "markdown",
      "id": "9422a9aa",
      "metadata": {
        "id": "9422a9aa"
      },
      "source": [
        "1. Are we looking for a local minimum or a local maximum using the gradient ascent rule?\n",
        "2. You have implemented the gradient ascent rule. Could we have also used gradient descent instead for the proposed problem? Why/Why not?\n",
        "3. Let's deeply analyze how the learning rate $\\alpha$ and the number of iterations affect the final results. Run the algorithm you have written for different values of $\\alpha$ and the number of iterations and look at the outputs you get. Is the decision boundary influenced by these parameters change? Why do you think these parameters are affecting/not affecting the results?\n",
        "4. What happens if you do not normalize the data? Try to run the algorithm without normalizing the data and see what happens. Why do you think this happens?\n"
      ]
    },
    {
      "cell_type": "markdown",
      "id": "e87caf56",
      "metadata": {
        "id": "e87caf56"
      },
      "source": [
        "-------------------------------------------------------\n",
        "\n",
        "\n",
        "**WRITE YOUR ANSWER HERE:**\n",
        "\n",
        "1. The objective function is maximized with the gradient ascent rule. What we are looking for is a local maximum.\n",
        "Gradient ascent increases the function value. It updates parameters toward the positive slope of the gradient.\n",
        "2. Yes, gradient descent could have been used instead of gradient ascent by minimizing the negative log-likelihood $-\\ell(\\theta)$ instead of maximizing $\\ell(\\theta)$. Both approaches work because logistic regression's log-likelihood is a **concave function**, and minimizing $-\\ell(\\theta)$ leads to the same optimal parameters as maximizing $\\ell(\\theta)$. However, gradient ascent is more intuitive for this problem because the goal is to maximize the likelihood directly.\n",
        "The log-likelihood $\\ell(\\theta)$ is a **monotonic increasing function** of the predicted probabilities $h_\\theta(x)$. This implies that as $h_\\theta(x)$ approaches the true labels $y$, the log-likelihood increases, making it intuitive to directly maximize $\\ell(\\theta)$. Therefore, gradient ascent is naturally aligned with the goal of improving the model's predictions by increasing $\\ell(\\theta)$.\n",
        "3.The learning rate $\\alpha$ and the number of iterations significantly influence the convergence of gradient ascent. A larger $\\alpha$ accelerates convergence but risks overshooting or oscillating if too large, while a smaller $\\alpha$ ensures stability but requires more iterations. The number of iterations determines how long the algorithm runs, affecting whether it fully converges to the optimal parameters. These parameters affect the decision boundary because they directly impact the convergence of $\\theta$, which defines the boundary $\\theta^T x + b = 0$. If $\\theta$ does not converge, the boundary may misclassify data.\n",
        "For example, when $\\alpha = 100$, the algorithm experiences instability in the computation of the sigmoid function and log-likelihood, leading to erratic behavior in the graph and unreliable results. Reducing $\\alpha$ to 10 resolves this instability, producing a stable log-likelihood curve that grows quickly and slightly improves accuracy. Further reducing $\\alpha$ to 1 or 0.5 results in slower growth of the log-likelihood, but the accuracy remains the same as with $\\alpha = 10$. However, when $\\alpha = 0.001$, the log-likelihood curve appears as a straight line, indicating very slow learning, and the accuracy is significantly reduced because the parameters fail to converge effectively.\n",
        "Screenshots of the graphs for these cases are provided, illustrating how the learning rate impacts the stability of the log-likelihood and the model’s ability to learn effectively. This demonstrates the importance of selecting a balanced $\\alpha$, such as 0.5 or 1, to ensure both stability and efficient convergence.\n",
        "4.If you do not normalize the data, features with larger scales dominate the learning process, causing non-uniform updates to the model parameters. This leads to slower or unstable convergence, as gradient updates are disproportionately affected by some features. The decision boundary becomes distorted and the model misclassifies the data. Furthermore, numerical instability occurs, particularly in the sigmoid function, causing saturation and making learning inefficient. Data normalization ensures balanced feature contributions, stable convergence, and better performance.\n",
        "5. *(feel free to add here screenshots or new code cells if needed)*\n",
        "\n",
        "-------------------------------------------------------"
      ]
    },
    {
      "cell_type": "markdown",
      "source": [
        "###$\\alpha = 100$"
      ],
      "metadata": {
        "id": "8N0vqNswUDy3"
      },
      "id": "8N0vqNswUDy3"
    },
    {
      "cell_type": "code",
      "source": [
        "from IPython.display import Image, display\n",
        "\n",
        "display(Image(filename='Homework02/libs/alpha100log.png'))\n",
        "display(Image(filename='Homework02/libs/alpha100.png'))"
      ],
      "metadata": {
        "id": "KePAzsBVUGyv"
      },
      "id": "KePAzsBVUGyv",
      "execution_count": null,
      "outputs": []
    },
    {
      "cell_type": "markdown",
      "source": [
        "###$\\alpha = 10$"
      ],
      "metadata": {
        "id": "s3MqWgU9UH5r"
      },
      "id": "s3MqWgU9UH5r"
    },
    {
      "cell_type": "code",
      "source": [
        "from IPython.display import Image, display\n",
        "\n",
        "display(Image(filename='Homework02/libs/alpha10log.png'))\n",
        "display(Image(filename='Homework02/libs/alpha10.png'))"
      ],
      "metadata": {
        "id": "ErNXySpaULTp"
      },
      "id": "ErNXySpaULTp",
      "execution_count": null,
      "outputs": []
    },
    {
      "cell_type": "markdown",
      "source": [
        "###$\\alpha = 1$"
      ],
      "metadata": {
        "id": "ntweDOtjUOtb"
      },
      "id": "ntweDOtjUOtb"
    },
    {
      "cell_type": "code",
      "source": [
        "from IPython.display import Image, display\n",
        "\n",
        "display(Image(filename='Homework02/libs/alpha1log.png'))\n",
        "display(Image(filename='Homework02/libs/alpha1.png'))"
      ],
      "metadata": {
        "id": "v2yJrG9vUUyW"
      },
      "id": "v2yJrG9vUUyW",
      "execution_count": null,
      "outputs": []
    },
    {
      "cell_type": "markdown",
      "source": [
        "###$\\alpha = 0.5$"
      ],
      "metadata": {
        "id": "J7Z5DIDOUZ-q"
      },
      "id": "J7Z5DIDOUZ-q"
    },
    {
      "cell_type": "code",
      "source": [
        "from IPython.display import Image, display\n",
        "\n",
        "display(Image(filename='Homework02/libs/alpha0.5log.png'))\n",
        "display(Image(filename='Homework02/libs/alpha0.5.png'))"
      ],
      "metadata": {
        "id": "c6DphlAJUcb4"
      },
      "id": "c6DphlAJUcb4",
      "execution_count": null,
      "outputs": []
    },
    {
      "cell_type": "markdown",
      "source": [
        "###$\\alpha = 0.001$"
      ],
      "metadata": {
        "id": "TnppxoP1Ukin"
      },
      "id": "TnppxoP1Ukin"
    },
    {
      "cell_type": "code",
      "source": [
        "from IPython.display import Image, display\n",
        "\n",
        "display(Image(filename='Homework02/libs/alpha0.001log.png'))\n",
        "display(Image(filename='Homework02/libs/alpha0.001.png))"
      ],
      "metadata": {
        "id": "_E7sLdezUo9X"
      },
      "id": "_E7sLdezUo9X",
      "execution_count": null,
      "outputs": []
    },
    {
      "cell_type": "markdown",
      "id": "e71ad46b",
      "metadata": {
        "id": "e71ad46b",
        "jp-MarkdownHeadingCollapsed": true,
        "tags": []
      },
      "source": [
        "## 2: **Polynomial Expansion**"
      ]
    },
    {
      "cell_type": "markdown",
      "id": "022266f7",
      "metadata": {
        "id": "022266f7",
        "tags": []
      },
      "source": [
        "### **2.1: Polynomial features for logistic regression**\n",
        "\n",
        "Define new features e.g., of 2nd and 3rd degree, and learn a logistic regression classifier by using the new features and the gradient ascent optimization algorithm defined in Question 1.\n",
        "\n",
        "In particular, consider a polynomial boundary with equation:\n",
        "\n",
        "\\begin{equation}\n",
        "f(x_1, x_2) = c_0 + c_1 x_1 + c_2 x_2 + c_3 x_1^2 + c_4 x_2^2 + c_5 x_1 x_2 + c_6 x_1^3 + c_7 x_2^3 + c_8 x_1^2 x_2 + c_9 x_1 x_2^2\n",
        "\\end{equation}\n",
        "\n",
        "Therefore compute 7 new features: 3 new ones for the quadratic terms and 4 new ones for the cubic terms.\n",
        "\n",
        "Create new arrays by stacking $x$ and the new 7 features (in the order $x_1x_1, x_2x_2, x_1x_2, x_1x_1x_1, x_2x_2x_2, x_1x_1x_2, x_1x_2x_2$).\n",
        "In particular create `x_new_quad` by additionally stacking $x$ with the quadratic features, and `x_new_cubic` by additionally stacking $x$ with the quadratic and the cubic features.\n",
        "\n",
        "**Do not write below this line just run it**\n",
        "\n",
        "--------------------------------------------"
      ]
    },
    {
      "cell_type": "code",
      "execution_count": null,
      "id": "e200aed3",
      "metadata": {
        "id": "e200aed3",
        "outputId": "9461aef3-372b-4e55-8433-13908ace5a6e"
      },
      "outputs": [
        {
          "data": {
            "text/plain": [
              "<Axes: >"
            ]
          },
          "execution_count": 6,
          "metadata": {},
          "output_type": "execute_result"
        },
        {
          "data": {
            "image/png": "[encoded data removed]",
            "text/plain": [
              "<Figure size 640x480 with 1 Axes>"
            ]
          },
          "metadata": {},
          "output_type": "display_data"
        }
      ],
      "source": [
        "from sklearn.datasets import make_classification\n",
        "X, y = make_classification(\n",
        "    n_samples=700,\n",
        "    n_features=2,\n",
        "    n_informative=2,\n",
        "    n_redundant=0,\n",
        "    n_classes=2,\n",
        "    n_clusters_per_class=1,\n",
        "    class_sep=.3,\n",
        "    random_state=89,\n",
        ")\n",
        "X = np.hstack([np.ones_like(X[:, [0]]), X])\n",
        "X, X_val, y, y_val = train_test_split(X, y, test_size=200, random_state=42)\n",
        "\n",
        "sns.scatterplot(x=X[:, 1], y=X[:, 2], hue=y)\n"
      ]
    },
    {
      "cell_type": "code",
      "execution_count": null,
      "id": "18dc0176",
      "metadata": {
        "id": "18dc0176"
      },
      "outputs": [],
      "source": [
        "def get_polynomial(X, degree):\n",
        "    \"\"\"\n",
        "    Given an initial set of features, this function computes the polynomial features up to the given degree.\n",
        "\n",
        "    Args:\n",
        "        X: the initial features matrix of shape (n_samples, 3) where the first column is the bias term\n",
        "        degree: the degree of the polynomial\n",
        "\n",
        "    Returns:YOUR\n",
        "        X: the final polynomial features\n",
        "    \"\"\"\n",
        "    if degree < 2:\n",
        "        return X\n",
        "\n",
        "    features = np.ones(X.shape[0])\n",
        "\n",
        "    #####################################################\n",
        "    ##                 YOUR CODE HERE                  ##\n",
        "    #####################################################\n",
        "\n",
        "    # Extract x1 and x2\n",
        "    x1 = X[:, 1]\n",
        "    x2 = X[:, 2]\n",
        "\n",
        "    # Add original features x1 and x2\n",
        "    features = np.column_stack((features, x1, x2))\n",
        "\n",
        "    # Quadratic terms\n",
        "    if degree >= 2:\n",
        "      x1x1 = x1 ** 2\n",
        "      x2x2 = x2 ** 2\n",
        "      x1x2 = x1 * x2\n",
        "\n",
        "      features = np.column_stack((features, x1x1, x2x2, x1x2))\n",
        "\n",
        "    # Cubic terms\n",
        "    if degree >= 3:\n",
        "      x1x1x1 = x1 ** 3\n",
        "      x2x2x2 = x2 ** 3\n",
        "      x1x1x2 = x1 ** 2 * x2\n",
        "      x1x2x2 = x1 * x2 ** 2\n",
        "\n",
        "      features = np.column_stack((features, x1x1x1, x2x2x2, x1x1x2, x1x2x2))\n",
        "\n",
        "    return features\n"
      ]
    },
    {
      "cell_type": "markdown",
      "id": "6aca7ebf",
      "metadata": {
        "id": "6aca7ebf"
      },
      "source": [
        "\n",
        "**Do not write below this line just run it**\n",
        "\n",
        "--------------------------------------------"
      ]
    },
    {
      "cell_type": "code",
      "execution_count": null,
      "id": "611a2aee",
      "metadata": {
        "id": "611a2aee",
        "outputId": "133af0fb-b530-4e47-a59e-91731d45a967"
      },
      "outputs": [
        {
          "name": "stdout",
          "output_type": "stream",
          "text": [
            "(500, 6) (500, 10)\n"
          ]
        }
      ],
      "source": [
        "x_new_quad = get_polynomial(X, degree=2)\n",
        "x_new_cubic = get_polynomial(X, degree=3)\n",
        "print(x_new_quad.shape, x_new_cubic.shape)\n"
      ]
    },
    {
      "cell_type": "markdown",
      "id": "57a43fe0",
      "metadata": {
        "id": "57a43fe0"
      },
      "source": [
        "Now use the gradient ascent optimization algorithm to learn the models by maximizing the log-likelihood, both for the case of `x_new_quad` and `x_new_cubic`.\n",
        "\n",
        "\n",
        "**Do not write below this line just run it**\n",
        "\n",
        "--------------------------------------------"
      ]
    },
    {
      "cell_type": "code",
      "execution_count": null,
      "id": "4ea40537",
      "metadata": {
        "id": "4ea40537",
        "outputId": "9f25e03c-16a2-4377-8488-3e5ce1b25584"
      },
      "outputs": [
        {
          "ename": "TypeError",
          "evalue": "LogisticRegression.__init__() got an unexpected keyword argument 'num_features'",
          "output_type": "error",
          "traceback": [
            "\u001b[1;31m---------------------------------------------------------------------------\u001b[0m",
            "\u001b[1;31mTypeError\u001b[0m                                 Traceback (most recent call last)",
            "Cell \u001b[1;32mIn[13], line 2\u001b[0m\n\u001b[0;32m      1\u001b[0m n_iter \u001b[38;5;241m=\u001b[39m \u001b[38;5;241m50\u001b[39m\n\u001b[1;32m----> 2\u001b[0m model_lin \u001b[38;5;241m=\u001b[39m \u001b[43mLogisticRegression\u001b[49m\u001b[43m(\u001b[49m\u001b[43mnum_features\u001b[49m\u001b[38;5;241;43m=\u001b[39;49m\u001b[43mX\u001b[49m\u001b[38;5;241;43m.\u001b[39;49m\u001b[43mshape\u001b[49m\u001b[43m[\u001b[49m\u001b[38;5;241;43m1\u001b[39;49m\u001b[43m]\u001b[49m\u001b[43m)\u001b[49m\n\u001b[0;32m      3\u001b[0m log_l_history,_ \u001b[38;5;241m=\u001b[39m fit(model_lin, X, y, lr\u001b[38;5;241m=\u001b[39m\u001b[38;5;241m0.5\u001b[39m, num_steps\u001b[38;5;241m=\u001b[39mn_iter)\n\u001b[0;32m      5\u001b[0m \u001b[38;5;66;03m# Initialize model, in case of quadratic features\u001b[39;00m\n",
            "\u001b[1;31mTypeError\u001b[0m: LogisticRegression.__init__() got an unexpected keyword argument 'num_features'"
          ]
        }
      ],
      "source": [
        "n_iter = 50\n",
        "model_lin = LogisticRegression(num_features=X.shape[1])\n",
        "log_l_history,_ = fit(model_lin, X, y, lr=0.5, num_steps=n_iter)\n",
        "\n",
        "# Initialize model, in case of quadratic features\n",
        "model_quad = LogisticRegression(num_features=x_new_quad.shape[1])\n",
        "log_l_history_quad,_ = fit(model_quad, x_new_quad, y, lr=0.5, num_steps=n_iter)\n",
        "\n",
        "# Initialize model, in case of quadratic and cubic features\n",
        "model_cubic = LogisticRegression(num_features=x_new_cubic.shape[1])\n",
        "log_l_history_cubic,_ = fit(model_cubic, x_new_cubic, y, lr=0.5, num_steps=n_iter)\n",
        "\n",
        "log_l = np.stack([log_l_history, log_l_history_quad, log_l_history_cubic])\n",
        "\n",
        "log_l_df = pd.DataFrame(log_l.T, columns=[\"Linear\", \"Quadratic\", \"Cubic\"])\n",
        "sns.lineplot(data=log_l_df, markers=True).set(\n",
        "    xlabel=\"Iterations\", ylabel=\"Log Likelihood\", title=\"Log Likelihood History for Different Models\"\n",
        ")\n"
      ]
    },
    {
      "cell_type": "markdown",
      "id": "b60667ee",
      "metadata": {
        "id": "b60667ee"
      },
      "source": [
        "### **2.2: Plot the computed non-linear boundary**\n",
        "\n",
        "First, define a boundary_function to compute the boundary equation for the input feature vectors $x_1$ and $x_2$, according to estimated parameters theta, both in the case of quadratic (theta_final_quad) and of quadratic and cubic features (theta_final_cubic). Refer for the equation to the introductory part of Question 2."
      ]
    },
    {
      "cell_type": "code",
      "execution_count": null,
      "id": "dcebc714",
      "metadata": {
        "id": "dcebc714"
      },
      "outputs": [],
      "source": [
        "def boundary_function(x1_vec, x2_vec, theta_final, degree):\n",
        "    \"\"\"\n",
        "    This function computes the boundary function for the given theta_final and degree.\n",
        "\n",
        "    Args:\n",
        "        x1_vec: the x1 vector\n",
        "        x2_vec: the x2 vector\n",
        "        theta_final: the final theta\n",
        "        degree: the degree of the polynomial\n",
        "\n",
        "    Returns:\n",
        "        x1_vec: the x1 vector\n",
        "        x2_vec: the x2 vector\n",
        "        f: the boundary function\n",
        "    \"\"\"\n",
        "\n",
        "    x1_vec, x2_vec = np.meshgrid(x1_vec, x2_vec)\n",
        "\n",
        "    #####################################################\n",
        "    ##                 YOUR CODE HERE                  ##\n",
        "    #####################################################\n",
        "\n",
        "    # Flatten the meshgrid for feature calculation\n",
        "    x1_flat = x1_vec.ravel()\n",
        "    x2_flat = x2_vec.ravel()\n",
        "\n",
        "    # Bias term\n",
        "    features = np.ones((x1_flat.shape[0], 1))\n",
        "\n",
        "    # Linear terms\n",
        "    features = np.column_stack([features, x1_flat, x2_flat])\n",
        "\n",
        "    # Quadratic terms\n",
        "    if degree >= 2:\n",
        "        features = np.column_stack([features,\n",
        "                                    x1_flat ** 2,\n",
        "                                    x2_flat ** 2,\n",
        "                                    x1_flat * x2_flat])\n",
        "\n",
        "    # Cubic terms\n",
        "    if degree >= 3:\n",
        "        features = np.column_stack([features,\n",
        "                                    x1_flat ** 3,\n",
        "                                    x2_flat ** 3,\n",
        "                                    (x1_flat ** 2) * x2_flat,\n",
        "                                    x1_flat * (x2_flat ** 2)])\n",
        "\n",
        "    # Compute the boundary function values\n",
        "    f = np.dot(features, theta_final)\n",
        "\n",
        "    return x1_vec, x2_vec, f\n"
      ]
    },
    {
      "cell_type": "markdown",
      "id": "0b556291",
      "metadata": {
        "id": "0b556291"
      },
      "source": [
        "Now plot the decision boundaries corresponding to the theta_final_quad and theta_final_cubic solutions.\n",
        "\n",
        "**Do not write below this line just run it**\n",
        "\n",
        "--------------------------------------------"
      ]
    },
    {
      "cell_type": "code",
      "execution_count": null,
      "id": "6dd0d477",
      "metadata": {
        "id": "6dd0d477"
      },
      "outputs": [],
      "source": [
        "def plot_boundary_function(\n",
        "    X: np.ndarray, y: np.ndarray, theta: np.ndarray, degree: int, n_points: int = 200\n",
        ") -> None:\n",
        "    \"\"\"\n",
        "    This function plots the boundary function for the given theta and degree.\n",
        "\n",
        "    Args:\n",
        "        X: the input data\n",
        "        y: the input labels\n",
        "        theta: the final theta\n",
        "        degree: the degree of the polynomial\n",
        "        n_points: the number of points to plot\n",
        "\n",
        "    Returns:\n",
        "        None\n",
        "    \"\"\"\n",
        "\n",
        "    x1_vec = np.linspace(X[:, 1].min() - 1, X[:, 1].max() + 1, n_points)\n",
        "    x2_vec = np.linspace(X[:, 2].min() - 1, X[:, 2].max() + 1, n_points)\n",
        "\n",
        "    x1_vec, x2_vec, f = boundary_function(x1_vec, x2_vec, theta, degree=degree)\n",
        "    mesh_shape = int(np.sqrt(f.shape[0]))\n",
        "\n",
        "    sns.scatterplot(x=X[:, 1], y=X[:, 2], hue=y, legend=False)\n",
        "    plt.contour(\n",
        "        x1_vec, x2_vec, f.reshape((mesh_shape, mesh_shape)), colors=\"red\", levels=[0]\n",
        "    )\n",
        "\n",
        "plt.figure(figsize=(15,5))\n",
        "plt.subplot(1,3,1)\n",
        "plot_boundary_function(X, y, model_lin.parameters, degree=1)\n",
        "plt.title(\"Decision Boundary for Quadratic Features\")\n",
        "plt.subplot(1,3,2)\n",
        "plot_boundary_function(X, y, model_quad.parameters, degree=2)\n",
        "plt.title(\"Decision Boundary for Quadratic Features\")\n",
        "plt.subplot(1,3,3)\n",
        "plot_boundary_function(X, y, model_cubic.parameters, degree=3)\n",
        "plt.title(\"Decision Boundary for Cubic Features\");\n"
      ]
    },
    {
      "cell_type": "markdown",
      "id": "12908fe6",
      "metadata": {
        "id": "12908fe6"
      },
      "source": [
        "**Polynomial degree and overfitting**\n",
        "\n",
        "As the polynomial degree increases, the decision boundary becomes more and more complex. This can lead to overfitting, i.e. the model learns the training data too well, and it is not able to generalize to new data. This is a common problem in machine learning, and it is important to be able to detect it.\n",
        "\n",
        "In order to detect overfitting, we can split the dataset into a training set and a test set. The training set is used to learn the model, while the test set is used to evaluate the model performance on new data. If the model performs well on the training set, but it performs poorly on the test set, then we have overfitting.\n",
        "\n",
        "In this exercise, you are asked to plot the training and test accuracy as a function of the polynomial degree. Consider all the polynomial degrees from 1 to 20. For each polynomial degree, learn the model on the training set, and evaluate the accuracy on both the training and the test set. Additionally, visualize the decision boundary for the polynomials that give the **best** and the **worst** test accuracy for $\\texttt{degree} \\geq 2$."
      ]
    },
    {
      "cell_type": "code",
      "execution_count": null,
      "id": "0a8c83cf",
      "metadata": {
        "id": "0a8c83cf"
      },
      "outputs": [],
      "source": [
        "from sklearn.preprocessing import normalize\n",
        "\n",
        "def fit_polynomials(X, y, X_test, y_test, degrees, lr, num_steps, architecture = LogisticRegression):\n",
        "    \"\"\"\n",
        "    This function fits a logistic regression model for each degree in the degrees list.\n",
        "    \"\"\"\n",
        "    X = normalize(X)\n",
        "    X_test = normalize(X_test)\n",
        "\n",
        "    thetas = []\n",
        "    accuracy_scores_train, accuracy_scores_test = [], []\n",
        "    for degree in tqdm(degrees):\n",
        "        x_new = get_polynomial(X, degree=degree)\n",
        "\n",
        "        model = architecture(num_features=x_new.shape[1])\n",
        "        fit(model, x_new, y, lr=lr, num_steps=num_steps)\n",
        "\n",
        "        thetas.append(model.parameters)\n",
        "        y_hat_train = model.predict(x_new) > 0.5\n",
        "        accuracy_scores_train.append(accuracy_score(y, y_hat_train))\n",
        "        y_hat_test = model.predict(get_polynomial(X_test, degree=degree)) > 0.5\n",
        "        accuracy_scores_test.append(accuracy_score(y_test, y_hat_test))\n",
        "\n",
        "    return thetas, accuracy_scores_train, accuracy_scores_test\n"
      ]
    },
    {
      "cell_type": "code",
      "execution_count": null,
      "id": "c28971c0",
      "metadata": {
        "id": "c28971c0"
      },
      "outputs": [],
      "source": [
        "degrees = np.arange(1, 20)\n",
        "np.random.seed(42)\n",
        "thetas, accuracy_scores_train, accuracy_scores_test = fit_polynomials(\n",
        "    X, y, X_val, y_val, degrees=degrees, lr=0.5, num_steps=500, architecture=LogisticRegression\n",
        ")\n",
        "sns.lineplot(x=degrees, y=accuracy_scores_train, label=\"Train\")\n",
        "sns.lineplot(x=degrees, y=accuracy_scores_test,  label=\"Test\")\n",
        "plt.xlabel(\"Degree\")\n",
        "plt.ylabel(\"Accuracy Score\")\n",
        "plt.xticks(degrees)\n",
        "plt.show()\n"
      ]
    },
    {
      "cell_type": "markdown",
      "id": "c8c0052d",
      "metadata": {
        "id": "c8c0052d"
      },
      "source": [
        "Plot the best and the worst decision boundaries for $\\texttt{degree} \\geq 2$.\n",
        "\n",
        "--------------------------------------------\n",
        "**Write your code below this line**\n",
        "\n",
        "--------------------------------------------"
      ]
    },
    {
      "cell_type": "code",
      "execution_count": null,
      "id": "7c483b33",
      "metadata": {
        "id": "7c483b33"
      },
      "outputs": [],
      "source": [
        "# Plot worst model\n",
        "\n",
        "import numpy as np\n",
        "\n",
        "# Get the indices of the worst test accuracy for degree >= 2\n",
        "worst_degree_index = np.argmin(accuracy_scores_test[1:]) + 1\n",
        "\n",
        "worst_degree = degrees[worst_degree_index]\n",
        "\n",
        "print(f\"Worst degree: {worst_degree} with test accuracy: {accuracy_scores_test[worst_degree_index]:.4f}\")\n",
        "\n",
        "# Plot the decision boundary for the worst degree\n",
        "plt.figure(figsize=(12, 5))\n",
        "\n",
        "# Worst Degree\n",
        "plt.subplot(1, 2, 2)\n",
        "plot_boundary_function(\n",
        "    X=X,\n",
        "    y=y,\n",
        "    theta=thetas[worst_degree_index],\n",
        "    degree=worst_degree\n",
        ")\n",
        "plt.title(f\"Decision Boundary for Worst Degree = {worst_degree}\")\n",
        "\n",
        "plt.tight_layout()\n",
        "plt.show()\n"
      ]
    },
    {
      "cell_type": "code",
      "execution_count": null,
      "id": "2aa71ea4",
      "metadata": {
        "id": "2aa71ea4"
      },
      "outputs": [],
      "source": [
        "# Plot best model\n",
        "\n",
        "import numpy as np\n",
        "\n",
        "# Get the indices of the best test accuracy for degree >= 2\n",
        "best_degree_index = np.argmax(accuracy_scores_test[1:]) + 1\n",
        "\n",
        "best_degree = degrees[best_degree_index]\n",
        "\n",
        "print(f\"Best degree: {best_degree} with test accuracy: {accuracy_scores_test[best_degree_index]:.4f}\")\n",
        "\n",
        "# Plot the decision boundary for the best degree\n",
        "plt.figure(figsize=(12, 5))\n",
        "\n",
        "# Best Degree\n",
        "plt.subplot(1, 2, 1)\n",
        "plot_boundary_function(\n",
        "    X=X,\n",
        "    y=y,\n",
        "    theta=thetas[best_degree_index],\n",
        "    degree=best_degree\n",
        ")\n",
        "plt.title(f\"Decision Boundary for Best Degree = {best_degree}\")\n",
        "\n",
        "plt.tight_layout()\n",
        "plt.show()\n"
      ]
    },
    {
      "cell_type": "markdown",
      "id": "e6eae9e4",
      "metadata": {
        "id": "e6eae9e4"
      },
      "source": [
        "#### **Report**\n",
        "Write now your considerations. Discuss in particular:\n",
        "1. Look back at the plots you have generated. What can you say about the differences between the linear, quadratic, and cubic decision boundaries? Can you say if the model is improving in performances, increasing the degree of the polynomial? Do you think you can incur in underfitting increasing more and more the degree?\n",
        "2. Look at the plot of the training and test accuracy as a function of the polynomial degree. What can you say about the differences between the training and test accuracy? What can you say about the differences between the best and the worst test accuracy? In general, is it desirable to have a very complex decision boundary, i.e. a very high degree of the polynomial? Discuss and motivate your answer.\n",
        "3. In general what are some properties of the dataset that makes it more prone to overfitting? Discuss their impact.\n"
      ]
    },
    {
      "cell_type": "markdown",
      "id": "08abefa0",
      "metadata": {
        "id": "08abefa0"
      },
      "source": [
        "-------------------------------------------------------\n",
        "\n",
        "\n",
        "**WRITE YOUR ANSWER HERE:**\n",
        "\n",
        "1. The differences between linear, quadratic and cubic decision boundaries are that:\n",
        "- **Linear boundary** is is represented by a straight line that separates the two classes, but doing like this it can’t capture the non-linear relationships between them. So, this is an example of underfitting, because the model is too simple to represent the data structure.\n",
        "- **Quadratic boundary**, respect to the linear boundary, introduces a second-degree polynomial, we can see that because there’s a curve. This curve helps to separate the two classes in a better way, because it captures the data’s non linear patterns. In this case there’s no presence of underfitting.\n",
        "- **Cubic boundary** includes a third-degree polynomial terms, resulting therefore even more flexible than the Quadratic boundary. However, this can lead to overfitting, meaning that the model begins to capture noises of the training data, which are irrelevant, rather than the true pattern.\n",
        "\n",
        "Increasing the polynomial degree, it’s easy to see that the model improves in performance, but, as it shows us the Cubic boundary, increases in degree don’t lead always to better generalization, sometimes it could lead to overfitting.\n",
        "\n",
        "Increasing more and more the degree we can’t incur in underfitting because it typically occurs with simple models (like Linear loundaries). So, increasing the polynomial degree decreases the possibility of incurring in underfitting (as it doesn’t occur with higher degrees), but increasing too much the degree could lead to overfitting.\n",
        "\n",
        "\n",
        "2. As regards the differences between the training and test accuracy, we can say that while the training accuracy increases as the polynomial degree increases, the test accuracy, after reaching a certain height (degree 2), starts to decrease as the degree increases, becoming stable (after degree 3). This, as said in point 1., reflects the model's overfitting to the training data due to the fact that the degree is too high.\n",
        "\n",
        "About the differences between the best and the worst test accuracy, we can say that the best test accuracy occurs when the degree is 2 and, as we said before, the decision boundary manages to capture the non-linear structure of the data, without incurring overfitting.\n",
        "The worst degree test accuracy occurs when the degree is 3 (or greater than 3) and it occurs due to the fact that the model captures noises in the training data (instead than true patterns), incurring overfitting.  The best boundary is more generalizable than the worst boundary.\n",
        "\n",
        "About the desirability of a very complex decision boundary, we can say that it’s not very desirable, because it increases the risk of overfitting. Even if a model achieves a good training accuracy, it will probably have a bad test accuracy, meaning that the model is not very generalizable.\n",
        "A model with a very high degree of the polynomial tends to have bad test accuracy, this happens because it captures noises that are irrelevant, failing to capture the true structure od the data.\n",
        "\n",
        "To conclude, as this example shows us, to capture the data's structure and generalize well it's not mandatory to have a degree that high, because in this case a degree = 2 works well.\n",
        "\n",
        "3. As said in the previous points, the overfitting occurs when a model captures noises and irrelevant details in the data.\n",
        "Some properties of the datasets that makes them more prone to overfitting are for example:\n",
        "\n",
        "- **Polynomial degree of the model**, as said in the previous points. We know that as the degree increases, the decision boundary becomes more flexible, but if the degree is too high, this can lead to overfitting, and the model begins to capture noises, reducing its ability to generalize in a good way.\n",
        "- **Small dataset size**, because it increases the likelihood that the model memorizes the training data instead of generalizing new data.\n",
        "- **High dimensionality of the dataset**, because data become sparse and the model becomes to flexible, and this, as the high polynomial degree issue, can lead to overfitting.\n",
        "- **Highly complex data patterns**, because also in this case the model can capture other things instead of the true patterns of the data.\n",
        "\n",
        "\n",
        "\n",
        "-------------------------------------------------------"
      ]
    },
    {
      "cell_type": "markdown",
      "id": "1f456b6e",
      "metadata": {
        "id": "1f456b6e"
      },
      "source": [
        "### **2.4: Weight Penalization**\n",
        "\n",
        "Look at how complicated the decision boundaries become as you increase the degree. Can we improve this and prevent overfitting?\n",
        "When dealing with overfitting one frequent solution is to use a weigth penalization technique like L2 or L1 penalization.\n",
        "\n",
        "In our case we'll use L2 regularization. In this way the regularized likelihood will be:\n",
        "$$\n",
        "\\texttt{Likelihood}_{reg}(\\theta) = \\texttt{Likelihood}(\\theta) - \\frac{\\lambda}{2n} \\sum^n_i \\theta_i^2\n",
        "$$\n",
        "Thus we can derive the update rule as:\n",
        "\\begin{equation}\n",
        "\\theta_j:= \\theta_j + \\alpha( \\frac{\\partial l(\\theta_j)}{\\partial \\theta_j} -  \\frac{\\partial}{\\partial \\theta_j} \\left( \\frac{\\lambda}{2} \\theta_j^2 \\right ) )\n",
        "\\end{equation}\n",
        "\n",
        "Calculating the second term of the update rule it's just a matter of analytically solving a simple gradient, do it, and then implement it by extending the `LogisticRegression` class:\n",
        "\n",
        "--------------------------------------------\n",
        "\n",
        "**Fill in the code in `libs/models/logisic_regression_penalized.py`**\n",
        "\n",
        "--------------------------------------------"
      ]
    },
    {
      "cell_type": "code",
      "execution_count": null,
      "id": "fb7cc62c",
      "metadata": {
        "id": "fb7cc62c"
      },
      "outputs": [],
      "source": [
        "from libs.models import LogisticRegressionPenalized\n"
      ]
    },
    {
      "cell_type": "code",
      "execution_count": null,
      "id": "19371cf3",
      "metadata": {
        "id": "19371cf3"
      },
      "outputs": [],
      "source": [
        "X,y = make_classification(\n",
        "    n_samples=500,\n",
        "    n_features=100,\n",
        "    n_informative=50,\n",
        "    n_redundant=25,\n",
        "    n_classes=2, random_state=42)\n",
        "\n",
        "X_train, X_val, y_train, y_val = train_test_split(X, y, test_size=0.2, random_state=42)\n",
        "np.random.seed(42)\n",
        "\n",
        "lr = LogisticRegression(X.shape[1])\n",
        "likelihood_history, val_loss_history = fit(lr, X_train, y_train, X_val, y_val, lr=1e-2, num_steps=200)\n",
        "\n",
        "penalized_lt = LogisticRegressionPenalized(X.shape[1], 2)\n",
        "pen_history, pen_val_history = fit(penalized_lt, X_train, y_train, X_val, y_val, lr=1e-2, num_steps=200)\n",
        "\n",
        "plt.figure(figsize=(8, 5))\n",
        "plt.plot(-likelihood_history[2:], label=\"Train\", color=\"violet\")\n",
        "plt.plot(val_loss_history[2:], label=\"Test\", color='teal')\n",
        "plt.plot(-pen_history[2:], label=\"Train - penalized\", color=\"violet\", linestyle=\"--\")\n",
        "plt.plot(pen_val_history[2:], label=\"Test - penalized\", color=\"teal\", linestyle=\"--\")\n",
        "plt.xlabel(\"Iterations\")\n",
        "plt.ylabel(\"Loss\")\n",
        "plt.title(\"Non-penalized\")\n",
        "plt.legend()\n"
      ]
    },
    {
      "cell_type": "markdown",
      "id": "58bee8a3",
      "metadata": {
        "id": "58bee8a3"
      },
      "source": [
        "Now, evaluate the Penalized Logistic Regression for each value of $\\lambda \\in [0,3]$ and find the one that performs the best:"
      ]
    },
    {
      "cell_type": "code",
      "execution_count": null,
      "id": "cb84e3bf",
      "metadata": {
        "id": "cb84e3bf"
      },
      "outputs": [],
      "source": [
        "lambdas = np.arange(0, 3, 0.1)\n",
        "losses = []\n",
        "\n",
        "for lambda_ in lambdas:\n",
        "    ##############################################\n",
        "    ###         COMPLETE THIS FOR-LOOP         ###\n",
        "    ##############################################\n",
        "\n",
        "    # Inizialize Penalized Logistic Regression with the current lambda\n",
        "    model = LogisticRegressionPenalized(num_features=X.shape[1], lambda_=lambda_)\n",
        "\n",
        "    # Train the model\n",
        "    _, val_loss_history = fit(model, X_train, y_train, X_val, y_val, lr=1e-2, num_steps=200)\n",
        "\n",
        "    # Append the last validation loss to the losses list\n",
        "    final_val_loss = val_loss_history[-1]\n",
        "    losses.append(final_val_loss)\n",
        "\n",
        "if len(losses) > 0:\n",
        "    sns.lineplot(x=lambdas, y=losses, label=\"Validation Loss\").set(\n",
        "        xlabel=\"Lambda\", ylabel=\"Loss\", title=\"Validation Loss vs Lambda\"\n",
        "    )\n",
        "    print(f\"Best lambda: {lambdas[np.argmin(losses)]}\")\n"
      ]
    },
    {
      "cell_type": "markdown",
      "id": "8a9a196b",
      "metadata": {
        "id": "8a9a196b"
      },
      "source": [
        "#### Report\n",
        "Write now your considerations. In particular:\n",
        "1. What happens when we use a non-penalized logistic regression?\n",
        "2. Observe the plot of the Train and Validation losses in the penalized vs non penalized case. In which case is the Train loss better? Can you explain why?\n",
        "3. What is the convergence rate? How is it influenced by the penalization?\n",
        "\n",
        "-------------------------------------------------------\n",
        "\n",
        "\n",
        "**WRITE YOUR ANSWER HERE:**\n",
        "\n",
        "1. If we use a **non-penalized logistic regression**, this can lead to the absence of regularization, which can results in overfitting. The model creates complex decision boundaries that fit the noise in the training data.\n",
        "This leads to low training loss but poor generalization to the validation or test set, resulting in higher validation loss.\n",
        "Another thing that can happens is that the weights can grow unbounded as the optimization algorithm prioritizes minimizing the training error. This could lead make the model highly sensitive to small changes in input features. This behavior often results in a high variance model, where the model performs well on the training data but poorly on unseen data, overfitting also in this case. Another thing to say is that the decision boundaries produced by non-penalized logistic regression tend to be unnecessarily complex and wavy.\n",
        "In conclusion, non-penalized logistic regression is effective at minimizing training loss, but it is also highly prone to overfitting and poor generalization.\n",
        "\n",
        "2. One thing visible in the plot is that the non-penalized model has a lower training loss if we compare that to the penalized model (the pink line is the non-penalized training loss, and it’s always under the dashed pink line, which is the penalized training loss).\n",
        "This happens because the non-penalized model adjusts its weights without any constraints, allowing it to fit the training data in a good way. This leads to the minimizing of the training loss in a more effectively way.\n",
        "On the other hand, the penalized model applies L2 regularization, which discourages large weight magnitudes by introducing a penalty term to the loss function. This prevents the model from overfitting to the training data, this is visible in a higher train loss.\n",
        "\n",
        "3. The convergence rate is the speed at which an algorithm approaches the minimum of the loss function during training. In this case, it’s how quickly the model's parameters stabilize as the loss decreases with successive iterations. Penalization, which is the presence (or absence) of regularization, influences the convergence because a faster convergence rate means that the model requires fewer iterations to reach a point where further updates result in minimal improvements to the loss.\n",
        "Penalization introduces an additional term to the loss function that modifies the optimization landscape, influencing the convergence rate.  \n",
        "Furthermore, penalization stabilizes the optimization process by making weight updates more consistent, improves the condition number of the loss surface and prevents excessive weight growth.\n",
        "So, in conclusion we can say that the penalization impacts convergence by doing all these things.\n",
        "\n",
        "-------------------------------------------------------"
      ]
    },
    {
      "cell_type": "markdown",
      "id": "7faba031",
      "metadata": {
        "id": "7faba031",
        "tags": []
      },
      "source": [
        "## 3: **Multinomial Classification**"
      ]
    },
    {
      "cell_type": "markdown",
      "id": "e107612c",
      "metadata": {
        "id": "e107612c"
      },
      "source": [
        "### **3.1: Softmax Regression Model**\n",
        "\n",
        "In the multinomial classification we generally have $K>2$ classes. So the label for the $i$-th sample $X_i$ is $y_i\\in\\{1,...,K\\}$, where $i=1,...,N$. The output class for each sample is estimated by returning a score $s_i$ for each of the K classes. This results in a vector of scores of dimension K.\n",
        "In this exercise we'll use the *Softmax Regression* model, which is the natural extension of *Logistic Regression* for the case of more than 2 classes. The score array is given by the linear model:\n",
        "\n",
        "\\begin{align*}\n",
        "s_i =  X_i \\theta\n",
        "\\end{align*}\n",
        "\n",
        "Scores may be interpreted probabilistically, upon application of the function *softmax*. The position in the vector with the highest probability will be predicted as the output class. The probability of the class k for the $i$-th data sample is:\n",
        "\n",
        "\\begin{align*}\n",
        "p_{ik} = \\frac{\\exp(X_i \\theta_k)}{\\sum_{j=1}^K(X_i \\theta_j))}\n",
        "\\end{align*}\n",
        "\n",
        "We will adopt the *Cross Entropy* loss and optimize the model via *Gradient Descent*.\n",
        "In the first of this exercise we have to:\n",
        "-    Write the equations of the Cross Entropy loss for the Softmax regression model;\n",
        "-    Compute the equation for the gradient of the Cross Entropy loss for the model, in order to use it in the gradient descent algorithm.\n",
        "\n",
        "#### A bit of notation\n",
        "\n",
        "*  N: is the number of samples\n",
        "*  K: is the number of classes\n",
        "*  X: is the input dataset and it has shape (N, H) where H is the number of features\n",
        "*  y: is the output array with the labels; it has shape (N, 1)\n",
        "*  $\\theta$: is the parameter matrix of the model; it has shape (H, K)"
      ]
    },
    {
      "cell_type": "markdown",
      "id": "753c8304",
      "metadata": {
        "id": "753c8304"
      },
      "source": [
        "--------------------------------------------\n",
        "**Write you equation below this line**\n",
        "\n",
        "--------------------------------------------"
      ]
    },
    {
      "cell_type": "markdown",
      "id": "10170a74",
      "metadata": {
        "id": "10170a74"
      },
      "source": [
        "\\begin{align*}\n",
        "L(\\theta) = - \\sum_{i=1}^N \\sum_{k=1}^K y_{ik} \\log(p_{ik})\n",
        "\\end{align*}\n",
        "\n",
        "\\begin{align*}\n",
        "Loss(\\theta) = - \\frac{1}{N} \\sum_{i=1}^N \\sum_{k=1}^K y_{ik} \\log(p_{ik})\n",
        "\\end{align*}\n",
        "\n",
        "\n",
        "\\begin{align*}\n",
        "\\nabla_{\\theta_k} L(\\theta) = - \\frac{1}{N} \\sum_{i=1}^N (y_{ik} - p_{ik}) X_i\n",
        "\\end{align*}\n",
        "\n",
        "# Cross Entropy Loss for Softmax Regression\n",
        "The Cross Entropy loss function measures how well the predicted probabilities match the true labels. The loss function for softmax regression is defined as follows:\n",
        "\n",
        "# Softmax Function\n",
        "The probability \\(p_{ik}\\) for class \\(k\\) for the \\(i\\)-th data sample\n",
        "\n",
        "# Gradient of Cross Entropy Loss with respect to \\(\\theta\\)\n",
        "To perform gradient descent, we need to compute the gradient of the loss function with respect to the model parameters \\(\\theta\\).\n",
        "This gradient indicates how the loss changes with respect to each parameter \\(\\theta_k\\), which is used to update the parameters during training.\n"
      ]
    },
    {
      "cell_type": "markdown",
      "id": "60ccc0db",
      "metadata": {
        "id": "60ccc0db"
      },
      "source": [
        "### **3.2: Coding**\n",
        "\n",
        "We are using the CIFAR-10 dataset for this exercise. The CIFAR-10 dataset consists of 60,000 32x32 color images in 10 classes, with 6,000 images per class. It has 50,000 training images and 10,000 test images. The dataset was established by the Canadian Institute For Advanced Research (CIFAR), and it has become a standard benchmark for machine learning algorithms, especially in the area of image classification."
      ]
    },
    {
      "cell_type": "code",
      "execution_count": null,
      "id": "b9e56f3a",
      "metadata": {
        "colab": {
          "base_uri": "https://localhost:8080/",
          "height": 280
        },
        "id": "b9e56f3a",
        "outputId": "47cac39e-f029-429b-815b-88563b905b6a"
      },
      "outputs": [
        {
          "name": "stdout",
          "output_type": "stream",
          "text": [
            "Downloading https://www.cs.toronto.edu/~kriz/cifar-10-python.tar.gz to assets/cifar10/cifar-10-python.tar.gz\n"
          ]
        },
        {
          "name": "stderr",
          "output_type": "stream",
          "text": [
            "100%|██████████| 170M/170M [01:00<00:00, 2.80MB/s]\n"
          ]
        },
        {
          "name": "stdout",
          "output_type": "stream",
          "text": [
            "Extracting assets/cifar10/cifar-10-python.tar.gz to assets/cifar10\n",
            "Files already downloaded and verified\n"
          ]
        },
        {
          "ename": "NameError",
          "evalue": "name 'np' is not defined",
          "output_type": "error",
          "traceback": [
            "\u001b[0;31m---------------------------------------------------------------------------\u001b[0m",
            "\u001b[0;31mNameError\u001b[0m                                 Traceback (most recent call last)",
            "\u001b[0;32m<ipython-input-1-fe3fe39f1fd1>\u001b[0m in \u001b[0;36m<cell line: 28>\u001b[0;34m()\u001b[0m\n\u001b[1;32m     26\u001b[0m \u001b[0;31m# Preprocess the data\u001b[0m\u001b[0;34m\u001b[0m\u001b[0;34m\u001b[0m\u001b[0m\n\u001b[1;32m     27\u001b[0m \u001b[0mX_train\u001b[0m \u001b[0;34m=\u001b[0m \u001b[0;34m[\u001b[0m\u001b[0mimg\u001b[0m\u001b[0;34m.\u001b[0m\u001b[0mreshape\u001b[0m\u001b[0;34m(\u001b[0m\u001b[0;34m-\u001b[0m\u001b[0;36m1\u001b[0m\u001b[0;34m)\u001b[0m\u001b[0;34m.\u001b[0m\u001b[0mnumpy\u001b[0m\u001b[0;34m(\u001b[0m\u001b[0;34m)\u001b[0m \u001b[0;32mfor\u001b[0m \u001b[0mimg\u001b[0m\u001b[0;34m,\u001b[0m \u001b[0m_\u001b[0m \u001b[0;32min\u001b[0m \u001b[0mtrain_data\u001b[0m\u001b[0;34m]\u001b[0m\u001b[0;34m\u001b[0m\u001b[0;34m\u001b[0m\u001b[0m\n\u001b[0;32m---> 28\u001b[0;31m \u001b[0mX_train\u001b[0m \u001b[0;34m=\u001b[0m \u001b[0mnp\u001b[0m\u001b[0;34m.\u001b[0m\u001b[0marray\u001b[0m\u001b[0;34m(\u001b[0m\u001b[0mX_train\u001b[0m\u001b[0;34m)\u001b[0m\u001b[0;34m\u001b[0m\u001b[0;34m\u001b[0m\u001b[0m\n\u001b[0m\u001b[1;32m     29\u001b[0m \u001b[0my_train\u001b[0m \u001b[0;34m=\u001b[0m \u001b[0;34m[\u001b[0m\u001b[0mlabel\u001b[0m \u001b[0;32mfor\u001b[0m \u001b[0m_\u001b[0m\u001b[0;34m,\u001b[0m \u001b[0mlabel\u001b[0m \u001b[0;32min\u001b[0m \u001b[0mtrain_data\u001b[0m\u001b[0;34m]\u001b[0m\u001b[0;34m\u001b[0m\u001b[0;34m\u001b[0m\u001b[0m\n\u001b[1;32m     30\u001b[0m \u001b[0;34m\u001b[0m\u001b[0m\n",
            "\u001b[0;31mNameError\u001b[0m: name 'np' is not defined"
          ]
        }
      ],
      "source": [
        "import torchvision.datasets as datasets\n",
        "import torchvision.transforms as transforms\n",
        "\n",
        "cifar_dir = \"assets/cifar10\"\n",
        "transform = transforms.Compose([transforms.ToTensor()])\n",
        "train_data = datasets.CIFAR10(\n",
        "    root=cifar_dir, train=True, download=True, transform=transform\n",
        ")\n",
        "test_data = datasets.CIFAR10(\n",
        "    root=cifar_dir, train=False, download=True, transform=transform\n",
        ")\n",
        "\n",
        "# Convert labels to one-hot encoded format\n",
        "def one_hot_encode(y, num_classes=10):\n",
        "    encoded = np.zeros((len(y), num_classes))\n",
        "    for i, val in enumerate(y):\n",
        "        encoded[i, val] = 1\n",
        "    return encoded\n",
        "\n",
        "# Evaluate the accuracy of the predictions\n",
        "def compute_accuracy(predictions, true_labels):\n",
        "    correct_predictions = np.sum(predictions == true_labels)\n",
        "    total_predictions = len(true_labels)\n",
        "    return correct_predictions / total_predictions\n",
        "\n",
        "# Preprocess the data\n",
        "X_train = [img.reshape(-1).numpy() for img, _ in train_data]\n",
        "X_train = np.array(X_train)\n",
        "y_train = [label for _, label in train_data]\n",
        "\n",
        "X_val = [img.reshape(-1).numpy() for img, _ in test_data]\n",
        "X_val = np.array(X_val)\n",
        "y_val = [label for _, label in test_data]\n",
        "\n",
        "\n",
        "# Add bias term to X\n",
        "X_train = np.hstack([X_train, np.ones((X_train.shape[0], 1))])\n",
        "X_val = np.hstack([X_val, np.ones((X_val.shape[0], 1))])\n",
        "\n",
        "y_train_onehot = one_hot_encode(y_train)\n",
        "y_test_onehot = one_hot_encode(y_val)\n"
      ]
    },
    {
      "cell_type": "markdown",
      "id": "508f30d9",
      "metadata": {
        "id": "508f30d9"
      },
      "source": [
        "*Hint: consider the labels as one-hot vector. This will allow matrix operations (element-wise multiplication and summation).*"
      ]
    },
    {
      "cell_type": "markdown",
      "id": "5d63efe6",
      "metadata": {
        "id": "5d63efe6"
      },
      "source": [
        "Now implement a classifier for Multinomial Classification using the `softmax` function. Again, implement it as a class with the methods:\n",
        "- `predict`\n",
        "- `predict_labels`\n",
        "- `likelihood` *(Here you need to implement the Cross Entropy Loss)*\n",
        "- `update_theta`\n",
        "- `compute_gradient` to compute the Jacobian $\\nabla$\n",
        "\n",
        "Note that this this you don't need to reimplement the `fit()` function since the training loop you defined above works also for a Multinomial Classifier, provided that this is structured with the previously mentioned methods.\n",
        "\n",
        "--------------------------------------------\n",
        "\n",
        "**Fill in the code in `libs/models/multinomial.py` and `libs/math.py/softmax()`**\n",
        "\n",
        "--------------------------------------------"
      ]
    },
    {
      "cell_type": "code",
      "execution_count": null,
      "id": "4bbca091",
      "metadata": {
        "id": "4bbca091"
      },
      "outputs": [],
      "source": [
        "from libs.models import SoftmaxClassifier\n",
        "from libs.optim import fit\n"
      ]
    },
    {
      "cell_type": "markdown",
      "id": "8c21abf9",
      "metadata": {
        "id": "8c21abf9"
      },
      "source": [
        "--------------------------------------------\n",
        "\n",
        "**Do not write below this line just run it**\n",
        "\n",
        "--------------------------------------------\n",
        "\n",
        "*Execution can take around 10 minutes*"
      ]
    },
    {
      "cell_type": "code",
      "execution_count": null,
      "id": "7353b3df",
      "metadata": {
        "id": "7353b3df"
      },
      "outputs": [],
      "source": [
        "# Apply gradient descent to optimize theta\n",
        "alpha = 0.01\n",
        "iterations = 500\n",
        "H, K = X_train.shape[1], 10  # number of features and number of classes\n",
        "model = SoftmaxClassifier(num_features=H, num_classes=K)\n",
        "loss_history, _ = fit(model, X_train, y_train_onehot, lr=alpha, num_steps=iterations)\n",
        "\n",
        "# Make predictions on the training and test data\n",
        "train_predictions = model.predict_labels(X_train)\n",
        "test_predictions = model.predict_labels(X_val)\n",
        "\n",
        "train_accuracy = compute_accuracy(train_predictions, y_train)\n",
        "test_accuracy = compute_accuracy(test_predictions, y_val)\n",
        "\n",
        "print(f\"Training accuracy: {train_accuracy * 100:.2f}%\")\n",
        "print(f\"Test accuracy: {test_accuracy * 100:.2f}%\")\n"
      ]
    },
    {
      "cell_type": "markdown",
      "id": "46307d23",
      "metadata": {
        "id": "46307d23"
      },
      "source": [
        "### **3.3: Pipeline**\n",
        "Now you're going to use `scikit-learn` library to build a pipeline of operations to redo everything we've done so far in the homework. First we have loaded the required modules and the penguins dataset.\n",
        "\n",
        "---\n",
        "\n",
        "Then here you'll build the pipeline. We need four items:\n",
        "1. The Numerical Transformer, to handle the preprocessing of numerical columns, by:\n",
        "    - Imputing missing values with their mean\n",
        "    - Enrich the features with a 3-rd degree polynomial expansion\n",
        "    - Scaling of the features to $\\mu=0, \\sigma=1$\n",
        "2. The Categorical Transformer, to handle the preprocessing of categorical values, by:\n",
        "    - Imputing the missing values with the most frequent value\n",
        "    - Encode the features in a one-hot vector.\n",
        "3. The Preprocessor: a ColumnTransformer that distributed the numerical columns to the numerical transformer and the categorical columns to the categorical tranformer.\n",
        "4. The final Pipeline, which contains the preprocessor and the classfier of your choice (in this case `KNeighborsClassifier`)"
      ]
    },
    {
      "cell_type": "code",
      "execution_count": null,
      "id": "ffae09bf",
      "metadata": {
        "id": "ffae09bf"
      },
      "outputs": [],
      "source": [
        "data = pd.read_csv('assets/train.csv')\n",
        "\n",
        "X_train, X_val, y_train, y_val = train_test_split(data.drop('species', axis=1), data.species, test_size=0.2, random_state=42)\n"
      ]
    },
    {
      "cell_type": "code",
      "execution_count": null,
      "id": "91db325f",
      "metadata": {
        "id": "91db325f"
      },
      "outputs": [],
      "source": [
        "numerical_cols = ['bill_length', 'bill_depth', 'flipper_length', 'body_mass']\n",
        "categorical_cols = ['island', 'sex']\n",
        "\n",
        "##############################################\n",
        "###          FILL IN THIS CODE           #####\n",
        "##############################################\n",
        "from sklearn.compose import ColumnTransformer\n",
        "from sklearn.pipeline import make_pipeline\n",
        "\n",
        "## Import everything you need here\n",
        "\n",
        "from sklearn.impute import SimpleImputer\n",
        "from sklearn.preprocessing import StandardScaler, OneHotEncoder, PolynomialFeatures\n",
        "from sklearn.neighbors import KNeighborsClassifier\n",
        "\n",
        "\n",
        "numeric_transformer = make_pipeline(\n",
        "    SimpleImputer(strategy='mean'),  # Impute missing values with mean\n",
        "    PolynomialFeatures(degree=3, include_bias=False), # 3rd-degree polynomial expansion\n",
        "    StandardScaler()  # Scale features to μ=0, σ=1\n",
        ")\n",
        "\n",
        "categoric_transfomer = make_pipeline(\n",
        "    SimpleImputer(strategy='most_frequent'),  # Impute missing values with most frequent value\n",
        "    OneHotEncoder(handle_unknown='ignore')  # One-hot encode categories\n",
        ")\n",
        "\n",
        "preprocessor = ColumnTransformer(transformers=[\n",
        "    ('num', numeric_transformer, numerical_cols),  # Apply numeric transformer to numerical columns\n",
        "    ('cat', categoric_transfomer, categorical_cols)  # Apply categorical transformer to categorical columns\n",
        "], remainder='drop')\n",
        "\n",
        "pipe = make_pipeline( # Create a pipeline\n",
        "    preprocessor,  # Preprocess data\n",
        "    KNeighborsClassifier()  # Apply K-Nearest Neighbors\n",
        ")\n",
        "\n",
        "if len(pipe.named_steps)>0:\n",
        "    display(pipe)\n"
      ]
    },
    {
      "cell_type": "markdown",
      "id": "9a20cc4b",
      "metadata": {
        "id": "9a20cc4b"
      },
      "source": [
        "Now, we can use this pipeline to preprocess the input data and fit a classifier. Leveraging `scikit-learn`'s pipelines allows you to:\n",
        "- Define the entire chain of operations in a structured way, which is especially useful for cleaning and transforming data.\n",
        "- Separate the definition of operations from their execution, creating a clean and organized workflow.\n",
        "\n",
        "This approach makes it easier to manage complex preprocessing steps while maintaining readability and clarity in your code."
      ]
    },
    {
      "cell_type": "code",
      "execution_count": null,
      "id": "1829845c",
      "metadata": {
        "id": "1829845c"
      },
      "outputs": [],
      "source": [
        "pipe.fit(X_train, y_train)\n",
        "\n",
        "y_pred = pipe.predict(X_val)\n",
        "print(classification_report(y_val, y_pred))\n"
      ]
    },
    {
      "cell_type": "markdown",
      "id": "37fd86ac",
      "metadata": {
        "id": "37fd86ac"
      },
      "source": [
        "This is nice but can we improve it? In defining the pipeline you certainly used some fixed hyperparameters, for example the number of neighbors or the degree of the polynomial expansion.\n",
        "\n",
        "First, let's look at the list of hyperparameters:"
      ]
    },
    {
      "cell_type": "code",
      "execution_count": null,
      "id": "4dcfd619",
      "metadata": {
        "id": "4dcfd619"
      },
      "outputs": [],
      "source": [
        "hparams = pipe.get_params()\n",
        "for hp, val in hparams.items():\n",
        "    if type(val) not in [int, float, str]:\n",
        "        continue\n",
        "    print(f\"{hp}: {val}\")\n"
      ]
    },
    {
      "cell_type": "markdown",
      "id": "7a99eea0",
      "metadata": {
        "id": "7a99eea0"
      },
      "source": [
        "Some of these hyperparameters are set to their default values, while others are explicitly defined. However, any data scientist knows that hyperparameters should not be arbitrarily chosen; instead, they should be optimized through **Cross-Validation**.\n",
        "\n",
        "We can leverage the compositionality of `scikit-learn` by incorporating the pipeline into a `GridSearchCV` class. This allows you to easily define a grid of parameters to val and automatically perform cross-validation over the combinations.\n",
        "\n",
        "Choose at least 2 values for at least 3 hyperparameters. val their impact on the model and find the best combination."
      ]
    },
    {
      "cell_type": "code",
      "execution_count": null,
      "id": "3389cc26",
      "metadata": {
        "id": "3389cc26"
      },
      "outputs": [],
      "source": [
        "from sklearn.model_selection import GridSearchCV\n",
        "\n",
        "grid = dict(\n",
        "    columntransformer__num__polynomialfeatures__degree=[2, 3, 4],  # Test polynomial degrees\n",
        "    kneighborsclassifier__n_neighbors=[3, 5, 7],  # Test different numbers of neighbors\n",
        "    kneighborsclassifier__weights=['uniform', 'distance'],  # Test weighting strategies\n",
        "    kneighborsclassifier__metric=['minkowski', 'manhattan'],  # Test distance metrics\n",
        ")\n",
        "\n",
        "#pipe_cv = None\n",
        "# Set up the grid search with cross-validation\n",
        "pipe_cv = GridSearchCV(pipe, param_grid=grid, cv=5, scoring='accuracy', verbose=1, n_jobs=-1, return_train_score=True)\n",
        "\n",
        "if pipe_cv is not None:\n",
        "    pipe_cv.fit(X_train, y_train)\n",
        "\n",
        "    print(f\"Best score: {pipe_cv.best_score_}\")\n",
        "    for hp, val in pipe_cv.best_params_.items():\n",
        "        print(f\"{hp}: {val}\")\n"
      ]
    },
    {
      "cell_type": "markdown",
      "id": "054a24ba",
      "metadata": {
        "id": "054a24ba"
      },
      "source": [
        "`GridSearchCV` doesn't only find the best combination of hyperparmeters, but it also refits the model with the best hyperparameters it finds. Let's val this new model:"
      ]
    },
    {
      "cell_type": "code",
      "execution_count": null,
      "id": "d76df863",
      "metadata": {
        "id": "d76df863"
      },
      "outputs": [],
      "source": [
        "y_pred = pipe_cv.predict(X_val)\n",
        "print(classification_report(y_val, y_pred))\n"
      ]
    },
    {
      "cell_type": "markdown",
      "id": "661c4ac8",
      "metadata": {
        "id": "661c4ac8"
      },
      "source": [
        "#### Report\n",
        "1. How many combinations has your gridsearch tried?\n",
        "2. Make a plot with the results of your hyperparameter grid\n",
        "3. Do you notice any trend in the performance of certain hyperparameters?\n",
        "4. Do the classifiers obtain the same accuracy on train and val sets? If not, try to give an explanation.\n",
        "5. With the choice of hyperparameters you made, do you notice any trade-off between accuracy and compute power? Show with a plot."
      ]
    },
    {
      "cell_type": "code",
      "execution_count": null,
      "id": "be3ce062",
      "metadata": {
        "id": "be3ce062"
      },
      "outputs": [],
      "source": [
        "cv_res = pd.DataFrame(pipe_cv.cv_results_)\n",
        "cv_res.columns = [col.split('__')[-1] for col in cv_res.columns]\n",
        "\n",
        "##############################################\n",
        "###                YOUR CODE HERE         ####\n",
        "##############################################\n",
        "\n",
        "# How many combinations has your gridsearch tried?\n",
        "num_combinations = len(cv_res)\n",
        "print(f\"Grid search tried {num_combinations} combinations.\")\n",
        "\n",
        "# Make a plot with the results of your hyperparameter grid\n",
        "plt.figure(figsize=(10, 6))\n",
        "for weight in cv_res['weights'].unique():\n",
        "    subset = cv_res[cv_res['weights'] == weight]\n",
        "    plt.plot(subset['n_neighbors'], subset['mean_test_score'], label=f'Weights: {weight}')\n",
        "\n",
        "plt.xlabel('Number of Neighbors')\n",
        "plt.ylabel('Mean Test Accuracy')\n",
        "plt.title('Hyperparameter Grid Search Results')\n",
        "plt.legend()\n",
        "plt.show()\n",
        "\n",
        "# Do you notice any trend in the performance of certain hyperparameters?\n",
        "best_params = pipe_cv.best_params_\n",
        "print(f\"The best hyperparameters are: {best_params}\")\n",
        "print(f\"The best mean accuracy is: {pipe_cv.best_score_:.4f}\")\n",
        "\n",
        "# Do the classifiers obtain the same accuracy on train and validation sets?\n",
        "cv_res['train_val_diff'] = cv_res['mean_train_score'] - cv_res['mean_test_score']\n",
        "print(f\"Train-Validation Differences:\\n{cv_res[['train_val_diff', 'mean_test_score', 'mean_train_score']].head()}\")\n",
        "\n",
        "# With the choice of hyperparameters you made, do you notice any trade-off between accuracy and compute power?\n",
        "plt.figure(figsize=(10, 6))\n",
        "plt.scatter(cv_res['mean_fit_time'], cv_res['mean_test_score'], c='blue', label='Accuracy vs Fit Time')\n",
        "plt.xlabel('Mean Fit Time (s)')\n",
        "plt.ylabel('Mean Test Accuracy')\n",
        "plt.title('Trade-off Between Accuracy and Compute Power')\n",
        "plt.legend()\n",
        "plt.show()\n"
      ]
    },
    {
      "cell_type": "markdown",
      "id": "db6e95b8",
      "metadata": {
        "id": "db6e95b8"
      },
      "source": [
        "--------------------------------------------\n",
        "\n",
        "**1. How many combinations has your grid search tried?**\n",
        "\n",
        "The grid search explored a total of **\\(X\\)** hyperparameter combinations, where \\(X\\) is the product of all possible values for each tested hyperparameter. This includes different values for `polynomialfeatures__degree`, `kneighborsclassifier__n_neighbors`, `kneighborsclassifier__weights`, and `kneighborsclassifier__metric`. Testing such a wide range of combinations allows for an extensive search for optimal hyperparameters that neither underfit nor overfit a model. The number of combinations, however, does affect the computational cost => each combination has to be cross-validated and its model evaluated.\n",
        "\n",
        "**2. Make a plot with the results of your hyperparameter grid.**\n",
        "\n",
        "A plot of the grid search results shows how the test accuracy of the model varies as various combinations of these hyperparameters are tried. This may show, for instance, that with an increase in the number of neighbors (n_neighbors), the trend could be such that accuracy initially rises but then flattens out or decreases due to oversmoothing. As in many weighting schemes, the weights parameter signals the importance of neighbors, often providing insight into whether weighting by distance (distance) is informative compared to uniform weighting (uniform). This kind of insight—when different hyperparameters do and do not influence performance—provides clear guidance.\n",
        "\n",
        "**3. Do you notice any trend in the performance of certain hyperparameters?**\n",
        "\n",
        "The best hyperparameters that resulted from the analysis are `n_neighbors=Y`, `weights='Z'`, and `metric='W'`. These were the hyperparameters for which the maximum cross-validated mean accuracy was **\\(A\\)%**. A functional trend that might be evident could be the fact that high polynomial degrees enrich features, which might contribute to the performance improvement up to some degree when making it too high leads to overfitting. The same holds true for the number of neighbors, `n_neighbors`: smaller values are generally better for small datasets; larger values reduce sensitivity to noise. These trends illustrate a tension between model complexity and generalization.\n",
        "\n",
        "**4. Do the classifiers obtain the same accuracy on train and validation sets?**\n",
        "\n",
        "These differences in training and validation accuracy suggest that the model mostly overfits to some hyperparameters. For example, a high polynomial degree or a small number of neighbors increases the training accuracy but decreases the validation accuracy, which is indicative of overfitting. In contrast, when this difference is small, it means generalization to unseen data goes well. This balance of training and validation performance is what one wants for a robust model and underlines how this tuning of hyperparameters helps to avoid overfitting.\n",
        "\n",
        "**5. With the choice of hyperparameters you made, do you notice any trade-off between accuracy and compute power?**\n",
        "\n",
        "This trade-off is shown in the plot of the relationship between the mean fit time versus the mean test accuracy, where configurations with high polynomial degrees or more neighbors are taking notably longer to compute. In a real-world application, the setting with the best configuration could offer barely marginal improvement on accuracy to afford much more computational cost. This way, the choice of hyperparameter is a trade-off between high accuracy and acceptable computational efficiency for a particular use case and regarding the available resources.\n",
        "\n",
        "--------------------------------------------"
      ]
    },
    {
      "cell_type": "markdown",
      "id": "8a0a3c8e",
      "metadata": {
        "id": "8a0a3c8e"
      },
      "source": [
        "## **4: Debugging a CNN with Shape Errors**\n",
        "\n",
        "You are provided with a CNN model intended to classify images from the [CIFAR-10](https://www.cs.toronto.edu/~kriz/cifar.html) dataset. However, the model contains shape mismatches between layers due to intentional errors. Your first task is to identify and fix these errors to make the model functional.*testo in corsivo*"
      ]
    },
    {
      "cell_type": "code",
      "execution_count": null,
      "id": "d941ac13",
      "metadata": {
        "colab": {
          "base_uri": "https://localhost:8080/"
        },
        "id": "d941ac13",
        "outputId": "95cff84b-82ec-4928-a899-c2b85ce99c79"
      },
      "outputs": [
        {
          "name": "stdout",
          "output_type": "stream",
          "text": [
            "Using device: cuda\n"
          ]
        }
      ],
      "source": [
        "import torch.nn as nn\n",
        "import torch.optim as optim\n",
        "from torchvision import datasets, transforms, models\n",
        "from torch.utils.data import DataLoader, random_split\n",
        "import matplotlib.pyplot as plt\n",
        "import numpy as np\n",
        "import torch\n",
        "\n",
        "# Check if GPU is available\n",
        "device = torch.device('cuda' if torch.cuda.is_available() else 'cpu')\n",
        "print(f'Using device: {device}')\n"
      ]
    },
    {
      "cell_type": "markdown",
      "id": "776d671f",
      "metadata": {
        "id": "776d671f"
      },
      "source": [
        "### 4.1: Split the CIFAR-10 Dataset"
      ]
    },
    {
      "cell_type": "markdown",
      "id": "0881a353",
      "metadata": {
        "id": "0881a353"
      },
      "source": [
        "Instructions:\n",
        "\n",
        "* Define the Split Sizes:\n",
        "Calculate the sizes for the training and validation datasets. Allocate ***80% of the training*** data for the training set and *20% for the validation set*.\n",
        "\n",
        "* Split the Dataset:\n",
        "Use `torch.utils.data.random_split` to create the training and validation datasets from the original training dataset.\n",
        "\n",
        "* Create Data Loaders:\n",
        "Create data loaders for the training, validation, and test datasets using torch.utils.data.DataLoader with a ***batch size of 64***. Ensure that the training data is ***shuffled***.\n",
        "\n",
        "* Print the size of each dataset (train, test, val)"
      ]
    },
    {
      "cell_type": "code",
      "execution_count": null,
      "id": "c5b82813",
      "metadata": {
        "id": "c5b82813"
      },
      "outputs": [],
      "source": [
        "# Define transformations for the data that we will use\n",
        "transform = transforms.Compose([\n",
        "    transforms.ToTensor(),\n",
        "])\n",
        "\n",
        "# Load the CIFAR-10 dataset\n",
        "full_train_dataset = datasets.CIFAR10(root='./data', train=True, download=True, transform=transform)\n",
        "test_dataset = datasets.CIFAR10(root='./data', train=False, download=True, transform=transform)\n",
        "\n",
        "#####################################################\n",
        "##              YOUR CODE HERE                     ##\n",
        "#####################################################\n",
        "\n",
        "# Define sizes of train and validation datasets\n",
        "dataset_len = len(full_train_dataset)\n",
        "train_size = int(dataset_len * 0.8)\n",
        "val_size = int(dataset_len - train_size)\n",
        "\n",
        "# Print the size of the each dataset\n",
        "print(f\"Sizes: [train = {train_size}], [test = {len(test_dataset)}], [val = {val_size}]\")\n",
        "\n",
        "# Randomly splite full_train_dataset to the train and validation datasets by size\n",
        "train_dataset, val_dataset = random_split(full_train_dataset, [train_size, val_size])\n",
        "\n",
        "# Data loaders\n",
        "train_loader = DataLoader(train_dataset, batch_size=64, shuffle=True)\n",
        "test_loader = DataLoader(val_dataset, batch_size=64, shuffle=True)\n",
        "val_loader = DataLoader(test_dataset, batch_size=64, shuffle=True)\n"
      ]
    },
    {
      "cell_type": "markdown",
      "id": "96ba0401",
      "metadata": {
        "id": "96ba0401"
      },
      "source": [
        "### 4.2: Identify and Correct Errors in the CNN Model\n"
      ]
    },
    {
      "cell_type": "markdown",
      "id": "5806744d",
      "metadata": {
        "id": "5806744d"
      },
      "source": [
        "In this exercise, you will analyze an intentionally incorrect implementation of a Convolutional Neural Network model. Your task is to identify the errors in the `PoorPerformingCNN` class and correct them to ensure the model works properly for the CIFAR-10 dataset.\n",
        "\n",
        "--------------------------------------------\n",
        "\n",
        "**Fill in the code in `libs/models/poor_cnn.py**\n",
        "\n",
        "--------------------------------------------"
      ]
    },
    {
      "cell_type": "code",
      "execution_count": null,
      "id": "84d190e2",
      "metadata": {
        "id": "84d190e2"
      },
      "outputs": [],
      "source": [
        "from libs.models import PoorPerformingCNN\n",
        "\n",
        "net = PoorPerformingCNN()\n"
      ]
    },
    {
      "cell_type": "markdown",
      "id": "5bfb7e81",
      "metadata": {
        "id": "5bfb7e81"
      },
      "source": [
        "Loss Function and optimizer"
      ]
    },
    {
      "cell_type": "code",
      "execution_count": null,
      "id": "f73233d5",
      "metadata": {
        "id": "f73233d5"
      },
      "outputs": [],
      "source": [
        "# Define loss function and optimizer\n",
        "criterion = nn.CrossEntropyLoss()\n",
        "optimizer = optim.Adam(net.parameters(), lr=0.001)\n"
      ]
    },
    {
      "cell_type": "markdown",
      "id": "05b442d3",
      "metadata": {
        "id": "05b442d3"
      },
      "source": [
        "### 4.3: Training procedure\n",
        "\n",
        "In this exercise, you will complete the training and validation loop of a neural network model. Your task is to compute and store the average training loss, average validation loss, and the corresponding accuracies for each epoch.\n",
        "\n",
        "Instructions:\n",
        "\n",
        "* **Training Phase**:\n",
        "After computing the average training loss (avg_train_loss), you need to calculate the training accuracy based on the model's predictions and append the calculated training accuracy to the train_accuracies list.\n",
        "\n",
        "* **Validation Phase**:\n",
        "After calculating the average validation loss (avg_val_loss), you need to calculate the validation accuracy based on the validation dataset and append the calculated validation accuracy to the val_accuracies list. (the same as befor but for the val)"
      ]
    },
    {
      "cell_type": "code",
      "execution_count": null,
      "id": "3858bb39",
      "metadata": {
        "id": "3858bb39"
      },
      "outputs": [],
      "source": [
        "# Initialize lists to store metrics\n",
        "train_losses = []\n",
        "val_losses = []\n",
        "train_accuracies = []\n",
        "val_accuracies = []\n",
        "\n",
        "\n",
        "num_epochs = 10\n",
        "# Training loop\n",
        "for epoch in range(num_epochs):\n",
        "    running_loss = 0.0\n",
        "    total_batches = 0\n",
        "    correct = 0\n",
        "    total = 0\n",
        "\n",
        "    # Training Phase\n",
        "    net.train()\n",
        "    for i, data in enumerate(train_loader, 0):\n",
        "        inputs, labels = data\n",
        "\n",
        "        # Zero the parameter gradients\n",
        "        optimizer.zero_grad()\n",
        "\n",
        "        # Forward pass\n",
        "        outputs = net(inputs)\n",
        "\n",
        "        # Compute loss\n",
        "        loss = criterion(outputs, labels)\n",
        "\n",
        "        # Backward pass and optimization\n",
        "        loss.backward()\n",
        "        optimizer.step()\n",
        "\n",
        "        running_loss += loss.item()\n",
        "        total_batches += 1\n",
        "\n",
        "        # Get predictions\n",
        "        _, y_pred = torch.max(outputs, 1)\n",
        "        correct += (y_pred == labels).sum().item()\n",
        "        total += labels.size(0)\n",
        "\n",
        "    #####################################################\n",
        "    ##              YOUR CODE HERE                     ##\n",
        "    #####################################################\n",
        "\n",
        "    # Calculate average loss for the training epoch\n",
        "    avg_train_loss = running_loss / total_batches\n",
        "    train_losses.append(avg_train_loss)\n",
        "\n",
        "    # Calculate training accuracy\n",
        "    train_accuracy = correct / total\n",
        "    train_accuracies.append(train_accuracy)\n",
        "\n",
        "    #####################################################\n",
        "    ##              END OF YOUR CODE                   ##\n",
        "    #####################################################\n",
        "\n",
        "    print(f'Epoch {epoch + 1}, Average Training Loss: {avg_train_loss:.4f}, Training Accuracy: {train_accuracy:.4f}')\n",
        "\n",
        "    # Validation Phase\n",
        "    net.eval()\n",
        "    val_running_loss = 0.0\n",
        "    correct = 0\n",
        "    total = 0\n",
        "\n",
        "    with torch.no_grad():\n",
        "        for val_data in val_loader:\n",
        "            val_inputs, val_labels = val_data\n",
        "\n",
        "            # Forward pass\n",
        "            val_outputs = net(val_inputs)\n",
        "\n",
        "            # Compute loss\n",
        "            val_loss = criterion(val_outputs, val_labels)\n",
        "            val_running_loss += val_loss.item()\n",
        "\n",
        "            # Calculate accuracy\n",
        "            _, val_predicted = torch.max(val_outputs.data, 1)\n",
        "            total += val_labels.size(0)\n",
        "            correct += (val_predicted == val_labels).sum().item()\n",
        "\n",
        "\n",
        "    #####################################################\n",
        "    ##              YOUR CODE HERE                     ##\n",
        "    #####################################################\n",
        "\n",
        "    # Calculate average loss for the validation epoch\n",
        "    avg_val_loss = val_running_loss / len(val_loader)\n",
        "    val_losses.append(avg_val_loss)\n",
        "\n",
        "    # Calculate validation accuracy\n",
        "    val_accuracy = correct / total\n",
        "    val_accuracies.append(val_accuracy)\n",
        "\n",
        "    #####################################################\n",
        "    ##              END OF YOUR CODE                   ##\n",
        "    #####################################################\n",
        "\n",
        "    print(f'Epoch {epoch + 1}, Average Validation Loss: {avg_val_loss:.4f}, Validation Accuracy: {val_accuracy:.4f}')\n",
        "\n",
        "print('Finished Training')\n"
      ]
    },
    {
      "cell_type": "markdown",
      "id": "6bb35d88",
      "metadata": {
        "id": "6bb35d88"
      },
      "source": [
        "### 4.4: Evaluate"
      ]
    },
    {
      "cell_type": "code",
      "execution_count": null,
      "id": "e248e772",
      "metadata": {
        "id": "e248e772"
      },
      "outputs": [],
      "source": [
        "correct = 0\n",
        "total = 0\n",
        "with torch.no_grad():\n",
        "    for data in test_loader:\n",
        "        images, labels = data\n",
        "        outputs = net(images)\n",
        "        _, predicted = torch.max(outputs.data, 1)\n",
        "        #####################################################\n",
        "        ##              YOUR CODE HERE                     ##\n",
        "        #####################################################\n",
        "\n",
        "        total += labels.size(0)\n",
        "        correct += (predicted == labels).sum().item()\n",
        "\n",
        "        #####################################################\n",
        "        ##              END OF YOUR CODE                   ##\n",
        "        #####################################################\n",
        "\n",
        "print(f'Accuracy on the test images: {100 * correct / total:.2f}%')\n"
      ]
    },
    {
      "cell_type": "markdown",
      "id": "2df9755d",
      "metadata": {
        "id": "2df9755d"
      },
      "source": [
        "### 4.5: Report\n",
        "\n",
        "1. What challenges can class imbalance introduce when training a machine learning model?\n",
        "\n",
        "2. What are some strategies to address class imbalance in your dataset or training process?\n",
        "\n",
        "3. Why might accuracy alone be misleading as a performance measure in the presence of class imbalance\n",
        "\n",
        "4. Is the cifar-10 and imbalanced dataset? plot the number of samples for each classes inside the cifar 10 dataset.\n",
        "\n",
        "-------------------------------------------------------\n",
        "\n",
        "\n",
        "**WRITE YOUR ANSWER HERE:**\n",
        "\n",
        "1. There are few possible cases:\n",
        "  - **Bias**. The trained model predicting the majority class more often, even for inputs belonging to the minority class.\n",
        "  - **High Accuracy, Low Performance**. A model trained on imbalanced data may appear to have high accuracy but may perform poorly on minority classes, which are often the ones of greater interest.\n",
        "  - **Missed Insights**. Data imbalance can result in the loss of important insights and patterns present in the minority class, leading to missed opportunities or critical errors\n",
        "  \n",
        "  `Source`: https://www.isi-web.org/sites/default/files/2024-02/Handling-Data-Imbalance-in-Machine-Learning.pdf\n",
        "2. Addressing class imbalance in machine learning is crucial for developing robust models. There are several strategies to tackle this issue:\n",
        "\n",
        "  - **Data-Level Methods**:\n",
        "    - *Oversampling*. Increase the representation of minority classes by duplicating existing samples or generating synthetic ones.\n",
        "    - *Undersampling*. Reduce the number of majority class samples to balance the dataset.\n",
        "    - *Combined Resampling*. Employ both oversampling and undersampling to achieve a balanced dataset.\n",
        "  - **Algorithm-Level Techniques**:\n",
        "    - *Model Adjustment*. Modify algorithms to be more resilient to class imbalance without altering the training data distribution.\n",
        "    - *Ensemble Methods*. Utilize techniques like Random Forest or AdaBoost, which can handle imbalanced datasets effectively.\n",
        "  - **Cost-Sensitive Learning**:\n",
        "    *Assigning Costs*. Allocate higher misclassification costs to minority classes to ensure the model pays adequate attention to them.\n",
        "  - **Anomaly Detection**: *Treating Minority Classes as Anomalies*. In cases of extreme imbalance, consider minority classes as anomalies and apply appropriate detection techniques.\n",
        "\n",
        "  Selecting the appropriate strategy depends on the specific problem, dataset characteristics, and desired outcomes.\n",
        "\n",
        "  `Source`: https://www.isi-web.org/sites/default/files/2024-02/Handling-Data-Imbalance-in-Machine-Learning.pdf\n",
        "\n",
        "3. The accuracy can be misleading as a performance measure because it may not reflect the model's true predictive capabilities. This phenomenon is known as **the accuracy paradox**.\n",
        "\n",
        "  *Example*. Consider a dataset with 90% 'ham' (non-spam) emails and 10% 'spam' emails. A model that naively classifies all emails as 'ham' would achieve 90% accuracy, as it correctly identifies all 'ham' emails. However, it fails to detect any 'spam' emails, rendering it ineffective for spam detection.\n",
        "\n",
        "  <u>Key Points of **accuracy paradox**</u>:\n",
        "  - **High Accuracy, Low Predictive Power**: A high accuracy rate does not necessarily indicate a model's effectiveness, especially when it overlooks minority classes.\n",
        "  - **Importance of Precision and Recall**: Metrics such as precision (the proportion of positive identifications that are actually correct) and recall (the proportion of actual positives that were correctly identified) provide a more nuanced evaluation of model performance in imbalanced datasets.\n",
        "\n",
        "  `Source`: https://digestize.medium.com/stat-digest-the-idea-behind-accuracy-paradox-e79daa9fd917\n",
        "\n",
        "4. CIFAR-10 is *balanced* dataset that is proven by the following pie chart:"
      ]
    },
    {
      "cell_type": "code",
      "execution_count": null,
      "id": "bd907b86",
      "metadata": {
        "id": "bd907b86"
      },
      "outputs": [],
      "source": [
        "from collections import Counter\n",
        "\n",
        "# Count the number of samples for each class in the training dataset\n",
        "train_class_counts = Counter(full_train_dataset.targets)\n",
        "\n",
        "# Count the number of samples for each class in the test dataset\n",
        "test_class_counts = Counter(test_dataset.targets)\n",
        "\n",
        "# Class names in CIFAR-10\n",
        "class_names = full_train_dataset.classes\n",
        "\n",
        "# Plot the class distribution for the training dataset\n",
        "plt.bar(class_names, [train_class_counts[i] for i in range(len(class_names))])\n",
        "plt.xlabel('Class Names')\n",
        "plt.ylabel('Number of Samples')\n",
        "plt.title('Number of Samples per Class in CIFAR-10 (Training Dataset)')\n",
        "plt.xticks(rotation=45)\n",
        "plt.show()\n",
        "\n",
        "sizes = [train_class_counts[i] for i in range(len(class_names))]\n",
        "\n",
        "# Plot the pie chart\n",
        "plt.figure(figsize=(8, 8))\n",
        "plt.pie(sizes, labels=class_names, autopct='%1.1f%%', startangle=140)\n",
        "plt.title('Class Distribution in CIFAR-10 (Training Dataset)')\n",
        "plt.axis('equal')\n",
        "plt.show()\n",
        "\n",
        "# Print the counts\n",
        "print(\"Training dataset class distribution:\")\n",
        "for i, class_name in enumerate(class_names):\n",
        "    print(f\"{class_name}: {train_class_counts[i]} samples\")\n",
        "\n",
        "print(\"\\nTest dataset class distribution:\")\n",
        "for i, class_name in enumerate(class_names):\n",
        "    print(f\"{class_name}: {test_class_counts[i]} samples\")\n"
      ]
    },
    {
      "cell_type": "markdown",
      "id": "f4fff764",
      "metadata": {
        "id": "f4fff764"
      },
      "source": [
        "-------------------------------------------------------"
      ]
    },
    {
      "cell_type": "markdown",
      "id": "18cb829e",
      "metadata": {
        "id": "18cb829e"
      },
      "source": [
        "## **5: Improve the accuracy** (BONUS)"
      ]
    },
    {
      "cell_type": "markdown",
      "id": "5c289bcd",
      "metadata": {
        "id": "5c289bcd"
      },
      "source": [
        "### 5.1: Custom model\n",
        "\n",
        "After successfully debugging the model, you'll notice that the accuracy on the CIFAR-10 dataset is only around 50-60%. Your second task is to improve the model's performance.\n",
        "\n",
        "How?\n",
        "\n",
        "*   Add more convolutional layers to capture higher-level features.\n",
        "*   Use Batch Normalization\n",
        "*   Add Dropout Layers\n",
        "\n",
        "Data Augmentation:\n",
        "*   Apply transformations like random cropping, flipping, and rotation.\n",
        "\n",
        "Hint: You CAN implement already pre-existing CNN architectures (do your research). As long as it is a CNN everything is fine.\n",
        "\n",
        "By the end of this section you should return the accuracy of your model on the test dataset.\n",
        "\n",
        "NB: by better score we mean at least +10% with respect to the previous model.\n",
        "\n",
        "\n",
        "\n"
      ]
    },
    {
      "cell_type": "code",
      "execution_count": null,
      "id": "WHlNsdE_ecfy",
      "metadata": {
        "colab": {
          "base_uri": "https://localhost:8080/"
        },
        "id": "WHlNsdE_ecfy",
        "outputId": "1652e711-b4ae-41d3-ad03-9cfde9b02191"
      },
      "outputs": [
        {
          "name": "stdout",
          "output_type": "stream",
          "text": [
            "Mounted at /content/drive\n"
          ]
        }
      ],
      "source": [
        "from google.colab import drive\n",
        "drive.mount('/content/drive', force_remount = True)\n"
      ]
    },
    {
      "cell_type": "code",
      "execution_count": null,
      "id": "k4mtPArXea9g",
      "metadata": {
        "colab": {
          "base_uri": "https://localhost:8080/"
        },
        "id": "k4mtPArXea9g",
        "outputId": "1b2b8ac0-dab4-48a3-a2be-b639f469b7b6"
      },
      "outputs": [
        {
          "name": "stdout",
          "output_type": "stream",
          "text": [
            "Using device: cuda\n"
          ]
        }
      ],
      "source": [
        "# Check if GPU is available\n",
        "import torch\n",
        "\n",
        "device = torch.device('cuda' if torch.cuda.is_available() else 'cpu')\n",
        "print(f'Using device: {device}')\n"
      ]
    },
    {
      "cell_type": "code",
      "execution_count": null,
      "id": "ob9-70d7Gd8d",
      "metadata": {
        "colab": {
          "base_uri": "https://localhost:8080/"
        },
        "id": "ob9-70d7Gd8d",
        "outputId": "791367f8-1789-4ee8-9a47-0d2bf8ca2c5b"
      },
      "outputs": [
        {
          "name": "stdout",
          "output_type": "stream",
          "text": [
            "Files already downloaded and verified\n",
            "Files already downloaded and verified\n"
          ]
        }
      ],
      "source": [
        "import torch\n",
        "import torch.nn as nn\n",
        "import torch.nn.functional as F\n",
        "# Define transformations for the data\n",
        "transform = transforms.Compose([\n",
        "    transforms.ToTensor()\n",
        "])\n",
        "\n",
        "# Load the CIFAR-10 dataset\n",
        "train_dataset = datasets.CIFAR10(root='./data', train=True, download=True, transform=transform)\n",
        "test_dataset  = datasets.CIFAR10(root='./data', train=False, download=True, transform=transform)\n",
        "\n",
        "# Create data loaders\n",
        "batch_size = 64\n",
        "train_loader = DataLoader(dataset=train_dataset, batch_size=batch_size, shuffle=True)\n",
        "test_loader  = DataLoader(dataset=test_dataset, batch_size=batch_size, shuffle=False)\n"
      ]
    },
    {
      "cell_type": "code",
      "execution_count": null,
      "id": "wSu_agA5LRnp",
      "metadata": {
        "id": "wSu_agA5LRnp"
      },
      "outputs": [],
      "source": [
        "import torch\n",
        "from torch import nn\n",
        "from torch.nn import functional as F\n",
        "\n",
        "class CustomCNN_DataAugmented(nn.Module):\n",
        "    def __init__(self):\n",
        "        super(CustomCNN_DataAugmented, self).__init__()\n",
        "\n",
        "        # First Convolutional Block\n",
        "        self.conv1 = nn.Conv2d(3, 32, kernel_size=3, padding=1)\n",
        "        self.bn1 = nn.BatchNorm2d(32)\n",
        "\n",
        "        # Second Convolutional Block\n",
        "        self.conv2 = nn.Conv2d(32, 64, kernel_size=3, padding=1)\n",
        "        self.bn2 = nn.BatchNorm2d(64)\n",
        "\n",
        "        # Third Convolutional Block\n",
        "        self.conv3 = nn.Conv2d(64, 128, kernel_size=3, padding=1)\n",
        "        self.bn3 = nn.BatchNorm2d(128)\n",
        "\n",
        "        # Fourth Convolutional Block (New Layer)\n",
        "        self.conv4 = nn.Conv2d(128, 256, kernel_size=3, padding=1)\n",
        "        self.bn4 = nn.BatchNorm2d(256)\n",
        "\n",
        "        # Dropout layer (Reduced Dropout Rate)\n",
        "        self.dropout = nn.Dropout(0.4)\n",
        "\n",
        "        # Fully connected layers with increased feature map size\n",
        "        self.fc1 = nn.Linear(256 * 4 * 4, 512)  # Increased to 512 units\n",
        "        self.fc2 = nn.Linear(512, 10)   # Output size for 10 classes\n",
        "\n",
        "    def forward(self, x):\n",
        "        # First Convolutional Block\n",
        "        x = F.relu(self.bn1(self.conv1(x)))\n",
        "        x = F.max_pool2d(x, 2)\n",
        "\n",
        "        # Second Convolutional Block\n",
        "        x = F.relu(self.bn2(self.conv2(x)))\n",
        "        x = F.max_pool2d(x, 2)\n",
        "\n",
        "        # Third Convolutional Block\n",
        "        x = F.relu(self.bn3(self.conv3(x)))\n",
        "        x = F.max_pool2d(x, 2)\n",
        "\n",
        "        # Fourth Convolutional Block\n",
        "        x = F.relu(self.bn4(self.conv4(x)))\n",
        "        x = F.max_pool2d(x, 2)\n",
        "\n",
        "        x = self.dropout(x)\n",
        "        x = x.view(-1, 256 * 4 * 4)\n",
        "\n",
        "        # Fully Connected Layers\n",
        "        x = F.relu(self.fc1(x))\n",
        "        x = self.dropout(x)\n",
        "        x = self.fc2(x)  # Output layer\n",
        "\n",
        "        return x\n"
      ]
    },
    {
      "cell_type": "code",
      "execution_count": null,
      "id": "4xO4yz5jk8Bx",
      "metadata": {
        "colab": {
          "base_uri": "https://localhost:8080/"
        },
        "id": "4xO4yz5jk8Bx",
        "outputId": "876371ff-1847-491f-a4ee-a1f7dce71ce5"
      },
      "outputs": [
        {
          "name": "stdout",
          "output_type": "stream",
          "text": [
            "Files already downloaded and verified\n",
            "0.49139968 0.48215827 0.44653124\n",
            "0.24703233 0.24348505 0.26158768\n"
          ]
        }
      ],
      "source": [
        "# Source: https://stackoverflow.com/questions/66678052/how-to-calculate-the-mean-and-the-std-of-cifar10-data\n",
        "import torch\n",
        "import numpy\n",
        "import torchvision.datasets as datasets\n",
        "from torchvision import transforms\n",
        "\n",
        "cifar_trainset = datasets.CIFAR10(root='./data', train=True, download=True, transform=transforms.ToTensor())\n",
        "\n",
        "imgs = [item[0] for item in train_dataset] # item[0] and item[1] are image and its label\n",
        "imgs = torch.stack(imgs, dim=0).numpy()\n",
        "\n",
        "# calculate mean over each channel (r,g,b)\n",
        "mean_r = imgs[:,0,:,:].mean()\n",
        "mean_g = imgs[:,1,:,:].mean()\n",
        "mean_b = imgs[:,2,:,:].mean()\n",
        "print(mean_r,mean_g,mean_b)\n",
        "\n",
        "# calculate std over each channel (r,g,b)\n",
        "std_r = imgs[:,0,:,:].std()\n",
        "std_g = imgs[:,1,:,:].std()\n",
        "std_b = imgs[:,2,:,:].std()\n",
        "print(std_r,std_g,std_b)\n"
      ]
    },
    {
      "cell_type": "code",
      "execution_count": null,
      "id": "d0bJt4JdfZB8",
      "metadata": {
        "colab": {
          "base_uri": "https://localhost:8080/"
        },
        "id": "d0bJt4JdfZB8",
        "outputId": "95a4047f-424c-470c-d4e5-9b134ad46974"
      },
      "outputs": [
        {
          "name": "stdout",
          "output_type": "stream",
          "text": [
            "Files already downloaded and verified\n",
            "Files already downloaded and verified\n"
          ]
        }
      ],
      "source": [
        "from torchvision import transforms\n",
        "\n",
        "\n",
        "transform_train = transforms.Compose([\n",
        "    transforms.RandomCrop(32, padding=4),            # Random crop with 4-pixel padding\n",
        "    transforms.RandomHorizontalFlip(),               # Horizontal flip (50% prob it happens)\n",
        "    transforms.ToTensor(),                           # Convert to tensor\n",
        "    # To ensure zero centered input data\n",
        "    transforms.Normalize((0.49139968 , 0.48215827 , 0.44653124),   # CIFAR-10 mean for each channel\n",
        "                         (0.24703233 , 0.243, 0.24348505))      # CIFAR-10 std deviation for each channel\n",
        "])\n",
        "\n",
        "# It's important to apply normalization on test to ensure consistency, ofc no augmentation instead\n",
        "transform_test = transforms.Compose([\n",
        "    transforms.ToTensor(),\n",
        "    transforms.Normalize((0.49139968 , 0.48215827 , 0.44653124),   # CIFAR-10 mean for each channel\n",
        "                         (0.24703233 , 0.243, 0.24348505))      # CIFAR-10 std deviation for each channel\n",
        "])\n",
        "\n",
        "# Load the CIFAR-10 dataset\n",
        "train_dataset = datasets.CIFAR10(root='./data', train=True, download=True, transform=transform)\n",
        "test_dataset  = datasets.CIFAR10(root='./data', train=False, download=True, transform=transform)\n",
        "\n",
        "# Create data loaders\n",
        "batch_size = 64\n",
        "train_loader = DataLoader(dataset=train_dataset, batch_size=batch_size, shuffle=True)\n",
        "test_loader  = DataLoader(dataset=test_dataset, batch_size=batch_size, shuffle=False)\n"
      ]
    },
    {
      "cell_type": "markdown",
      "id": "4486bead",
      "metadata": {
        "id": "4486bead"
      },
      "source": [
        "--------------------------------------------\n",
        "\n",
        "**Fill in the code in `libs/models/custom_cnn.py**\n",
        "\n",
        "--------------------------------------------"
      ]
    },
    {
      "cell_type": "code",
      "execution_count": null,
      "id": "30575ec4",
      "metadata": {
        "id": "30575ec4"
      },
      "outputs": [],
      "source": [
        "# /content/drive/MyDrive/Homework02/libs/models/custom_cnn.py\n",
        "import sys\n",
        "sys.path.append('/content/drive/MyDrive/Homework02/libs/models')\n",
        "\n",
        "from custom_cnn import CustomCNN\n",
        "\n",
        "\n",
        "net = CustomCNN().to(device)\n"
      ]
    },
    {
      "cell_type": "markdown",
      "id": "ecba4705",
      "metadata": {
        "id": "ecba4705"
      },
      "source": [
        "#### Training"
      ]
    },
    {
      "cell_type": "code",
      "execution_count": null,
      "id": "f0ba8675",
      "metadata": {
        "colab": {
          "base_uri": "https://localhost:8080/"
        },
        "id": "f0ba8675",
        "outputId": "9adfea75-8fbd-4f56-db70-3df15932be9f"
      },
      "outputs": [
        {
          "name": "stdout",
          "output_type": "stream",
          "text": [
            "Epoch 1, Loss: 1.3770\n",
            "Epoch 2, Loss: 1.0499\n",
            "Epoch 3, Loss: 0.9310\n",
            "Epoch 4, Loss: 0.8560\n",
            "Epoch 5, Loss: 0.8070\n",
            "Epoch 6, Loss: 0.7548\n",
            "Epoch 7, Loss: 0.7170\n",
            "Epoch 8, Loss: 0.6804\n",
            "Epoch 9, Loss: 0.6448\n",
            "Epoch 10, Loss: 0.6177\n",
            "Finished Training\n"
          ]
        }
      ],
      "source": [
        "import torch.nn as nn\n",
        "import torch.optim as optim\n",
        "\n",
        "criterion = nn.CrossEntropyLoss()\n",
        "optimizer = optim.Adam(net.parameters(), lr=0.001, weight_decay=5e-05)\n",
        "\n",
        "# Training loop\n",
        "num_epochs = 10\n",
        "for epoch in range(num_epochs):\n",
        "    net.train()\n",
        "    running_loss = 0.0\n",
        "    for i, data in enumerate(train_loader, 0):\n",
        "        inputs, labels = data\n",
        "        inputs, labels = inputs.to(device), labels.to(device)\n",
        "        optimizer.zero_grad()\n",
        "        outputs = net(inputs)\n",
        "        loss = criterion(outputs, labels)\n",
        "\n",
        "        loss.backward()\n",
        "        optimizer.step()\n",
        "\n",
        "        running_loss += loss.item()\n",
        "\n",
        "    print(f'Epoch {epoch + 1}, Loss: {running_loss / len(train_loader):.4f}')\n",
        "\n",
        "print('Finished Training')\n"
      ]
    },
    {
      "cell_type": "markdown",
      "id": "350ceb57",
      "metadata": {
        "id": "350ceb57"
      },
      "source": [
        "#### Evaluation"
      ]
    },
    {
      "cell_type": "code",
      "execution_count": null,
      "id": "fd7550f6",
      "metadata": {
        "colab": {
          "base_uri": "https://localhost:8080/"
        },
        "id": "fd7550f6",
        "outputId": "2810af96-c51d-4b15-e710-080ea2b96e1b"
      },
      "outputs": [
        {
          "name": "stdout",
          "output_type": "stream",
          "text": [
            "Accuracy on the test images: 77.08%\n"
          ]
        }
      ],
      "source": [
        "# Evaluate the model\n",
        "net.eval()\n",
        "correct = 0\n",
        "total = 0\n",
        "with torch.no_grad():\n",
        "    for data in test_loader:\n",
        "        images, labels = data\n",
        "        images, labels = images.to(device), labels.to(device)\n",
        "\n",
        "        outputs = net(images)\n",
        "        _, predicted = torch.max(outputs.data, 1)\n",
        "        total += labels.size(0)\n",
        "        correct += (predicted == labels).sum().item()\n",
        "\n",
        "print(f'Accuracy on the test images: {100 * correct / total:.2f}%')\n"
      ]
    },
    {
      "cell_type": "markdown",
      "id": "f0c58dfb",
      "metadata": {
        "id": "f0c58dfb"
      },
      "source": [
        "\n",
        "### 5.2: Pretrained network\n",
        "In this exercise, you will start from scratch to adapt a pre-trained AlexNet model for the CIFAR-10 dataset.\n",
        "\n",
        "Instructions\n",
        "\n",
        "- Use torchvision.models to load a pre-trained AlexNet. Be sure to specify that the model should be pre-trained on ImageNet.\n",
        "\n",
        "- The CIFAR-10 dataset has 10 classes, so you need to update the model’s final layer to output 10 classes instead of the default 1000.\n",
        "\n",
        "- Replace the final fully connected layer in AlexNet’s classifier to output 10 classes.\n",
        "\n",
        "- To perform fine-tuning, freeze all layers except the newly added fully connected layer.\n",
        "\n",
        "- Move your model to the appropriate device (cuda if available). Define a device and ensure the model is moved to that device.\n"
      ]
    },
    {
      "cell_type": "code",
      "execution_count": null,
      "id": "ba5ee586",
      "metadata": {
        "colab": {
          "base_uri": "https://localhost:8080/"
        },
        "id": "ba5ee586",
        "outputId": "cdb96b59-ee26-4415-f05f-596d38ba5745"
      },
      "outputs": [
        {
          "name": "stdout",
          "output_type": "stream",
          "text": [
            "Files already downloaded and verified\n",
            "Files already downloaded and verified\n"
          ]
        }
      ],
      "source": [
        "# Libraries I need to start the code without rerunning the whole notebook\n",
        "import torchvision.datasets as datasets\n",
        "import torchvision.transforms as transforms\n",
        "from torch.utils.data import DataLoader\n",
        "\n",
        "# Define transformations for the data\n",
        "transform = transforms.Compose([\n",
        "    transforms.Resize((224, 224)),\n",
        "    transforms.ToTensor(),\n",
        "    transforms.Normalize(mean=[0.485, 0.456, 0.406], std=[0.229, 0.224, 0.225])\n",
        "])\n",
        "\n",
        "# Load the CIFAR-10 dataset\n",
        "train_dataset = datasets.CIFAR10(root='./data', train=True, download=True, transform=transform)\n",
        "test_dataset = datasets.CIFAR10(root='./data', train=False, download=True, transform=transform)\n",
        "\n",
        "# Create data loaders\n",
        "batch_size = 64\n",
        "train_loader = DataLoader(dataset=train_dataset, batch_size=batch_size, shuffle=True)\n",
        "test_loader = DataLoader(dataset=test_dataset, batch_size=batch_size, shuffle=False)\n"
      ]
    },
    {
      "cell_type": "code",
      "execution_count": null,
      "id": "3C5JokL6apsu",
      "metadata": {
        "id": "3C5JokL6apsu"
      },
      "outputs": [],
      "source": [
        "# Define a device and ensure the model is moved to that device\n",
        "device = torch.device(\"cuda\" if torch.cuda.is_available() else \"cpu\")\n"
      ]
    },
    {
      "cell_type": "markdown",
      "id": "s9lzfrcCpj8H",
      "metadata": {
        "id": "s9lzfrcCpj8H"
      },
      "source": [
        "### Debugging info"
      ]
    },
    {
      "cell_type": "code",
      "execution_count": null,
      "id": "0Hsusuxsp9i8",
      "metadata": {
        "id": "0Hsusuxsp9i8"
      },
      "outputs": [],
      "source": [
        "model = models.alexnet(pretrained=True) # pretrained=True ensure to use the weights pre-trained on the ImageNet dataset\n"
      ]
    },
    {
      "cell_type": "code",
      "execution_count": null,
      "id": "3pleGejTp_E7",
      "metadata": {
        "colab": {
          "base_uri": "https://localhost:8080/"
        },
        "id": "3pleGejTp_E7",
        "outputId": "4ca9fc13-2b14-4adc-f35f-dc3b7056e85b"
      },
      "outputs": [
        {
          "data": {
            "text/plain": [
              "AlexNet(\n",
              "  (features): Sequential(\n",
              "    (0): Conv2d(3, 64, kernel_size=(11, 11), stride=(4, 4), padding=(2, 2))\n",
              "    (1): ReLU(inplace=True)\n",
              "    (2): MaxPool2d(kernel_size=3, stride=2, padding=0, dilation=1, ceil_mode=False)\n",
              "    (3): Conv2d(64, 192, kernel_size=(5, 5), stride=(1, 1), padding=(2, 2))\n",
              "    (4): ReLU(inplace=True)\n",
              "    (5): MaxPool2d(kernel_size=3, stride=2, padding=0, dilation=1, ceil_mode=False)\n",
              "    (6): Conv2d(192, 384, kernel_size=(3, 3), stride=(1, 1), padding=(1, 1))\n",
              "    (7): ReLU(inplace=True)\n",
              "    (8): Conv2d(384, 256, kernel_size=(3, 3), stride=(1, 1), padding=(1, 1))\n",
              "    (9): ReLU(inplace=True)\n",
              "    (10): Conv2d(256, 256, kernel_size=(3, 3), stride=(1, 1), padding=(1, 1))\n",
              "    (11): ReLU(inplace=True)\n",
              "    (12): MaxPool2d(kernel_size=3, stride=2, padding=0, dilation=1, ceil_mode=False)\n",
              "  )\n",
              "  (avgpool): AdaptiveAvgPool2d(output_size=(6, 6))\n",
              "  (classifier): Sequential(\n",
              "    (0): Dropout(p=0.5, inplace=False)\n",
              "    (1): Linear(in_features=9216, out_features=4096, bias=True)\n",
              "    (2): ReLU(inplace=True)\n",
              "    (3): Dropout(p=0.5, inplace=False)\n",
              "    (4): Linear(in_features=4096, out_features=4096, bias=True)\n",
              "    (5): ReLU(inplace=True)\n",
              "    (6): Linear(in_features=4096, out_features=1000, bias=True)\n",
              "  )\n",
              ")"
            ]
          },
          "execution_count": 43,
          "metadata": {},
          "output_type": "execute_result"
        }
      ],
      "source": [
        "model\n"
      ]
    },
    {
      "cell_type": "markdown",
      "id": "PSUA7gW_rBpe",
      "metadata": {
        "id": "PSUA7gW_rBpe"
      },
      "source": [
        "### Differences between my structure vs AlexNet\n",
        "- AlexNet: Has 5 convolutional layers, mine has 4\n",
        "- Initial large kernel (11x11) to focus on higher-level features early on\n",
        "- Stride of 4 in the first layer aggressively reduce spatial dimensions initally\n",
        "- I used Max Pooling after each convolutional layer, while AlexNet uses 2 in early layers and 1 in the end\n",
        "- In the final output I used AdaptiveAvgPool2d\n",
        "- I also added Batch Normalization after each convolutional layer\n",
        "- AlexNet use a higher dropout rate of 0.5 (mine is 0.3)\n",
        "\n",
        "I think my solution provides a really efficient structure for CIFAR-10 dataset, more suitable for this simple dataset even if training was not enough cause Loss was func was still going down. On the other end, AlexNext leverage on his complexity and super tuned weights."
      ]
    },
    {
      "cell_type": "code",
      "execution_count": null,
      "id": "32b8400e",
      "metadata": {
        "id": "32b8400e"
      },
      "outputs": [],
      "source": [
        "import torch\n",
        "import torch.nn as nn\n",
        "from torchvision import models, transforms, datasets\n",
        "\n",
        "# Modify the final layer of AlexNet for 10 classes instead of 1000\n",
        "# so model.classifier[6] is the final fully connected layer\n",
        "model.classifier[6] = nn.Linear(in_features=model.classifier[6].in_features, out_features=10) # we keep input features as they are so the layer structure remains compatible with the rest of the network but we change output to 10 classes (for our need)\n",
        "\n",
        "# Freeze all layers except the final fully connected layer\n",
        "for param in model.parameters():\n",
        "    param.requires_grad = False # allow to fix (so not update) layers's weights during backpropagation\n",
        "for param in model.classifier[6].parameters():\n",
        "    param.requires_grad = True # instead ofc we train the last one\n",
        "\n",
        "# This approach makes the train faster while reduce overfitting since we have trained on a bigger dataset than CIFAR-10\n",
        "\n",
        "model = model.to(device) # Move model to device\n"
      ]
    },
    {
      "cell_type": "code",
      "execution_count": null,
      "id": "09bfc3c4",
      "metadata": {
        "colab": {
          "base_uri": "https://localhost:8080/"
        },
        "id": "09bfc3c4",
        "outputId": "2d7a6d11-7d10-4f52-b6f0-393bff34e7b3"
      },
      "outputs": [
        {
          "name": "stdout",
          "output_type": "stream",
          "text": [
            "Epoch 1, Loss: 0.7283\n",
            "Finished Training\n",
            "Accuracy on the test images: 80.49%\n"
          ]
        }
      ],
      "source": [
        "import torch.optim as optim\n",
        "\n",
        "criterion = nn.CrossEntropyLoss()\n",
        "optimizer = optim.Adam(model.parameters(), lr=0.001, weight_decay=5e-05)\n",
        "\n",
        "# Training loop\n",
        "num_epochs = 1\n",
        "for epoch in range(num_epochs):\n",
        "    model.train()\n",
        "    running_loss = 0.0\n",
        "    for i, data in enumerate(train_loader, 0):\n",
        "        inputs, labels = data\n",
        "        inputs, labels = inputs.to(device), labels.to(device)\n",
        "        optimizer.zero_grad()\n",
        "        outputs = model(inputs)\n",
        "        loss = criterion(outputs, labels)\n",
        "        loss.backward()\n",
        "        optimizer.step()\n",
        "\n",
        "        running_loss += loss.item()\n",
        "\n",
        "    print(f'Epoch {epoch + 1}, Loss: {running_loss / len(train_loader):.4f}')\n",
        "\n",
        "print('Finished Training')\n",
        "\n",
        "# Evaluate the model\n",
        "model.eval()\n",
        "correct = 0\n",
        "total = 0\n",
        "with torch.no_grad():\n",
        "    for data in test_loader:\n",
        "        images, labels = data\n",
        "        images, labels = images.to(device), labels.to(device)\n",
        "\n",
        "        outputs = model(images)\n",
        "        _, predicted = torch.max(outputs.data, 1)\n",
        "        total += labels.size(0)\n",
        "        correct += (predicted == labels).sum().item()\n",
        "\n",
        "print(f'Accuracy on the test images: {100 * correct / total:.2f}%')\n"
      ]
    }
  ],
  "metadata": {
    "accelerator": "GPU",
    "colab": {
      "gpuType": "T4",
      "provenance": []
    },
    "kernelspec": {
      "display_name": "Python 3",
      "name": "python3"
    },
    "language_info": {
      "codemirror_mode": {
        "name": "ipython",
        "version": 3
      },
      "file_extension": ".py",
      "mimetype": "text/x-python",
      "name": "python",
      "nbconvert_exporter": "python",
      "pygments_lexer": "ipython3",
      "version": "3.12.7"
    }
  },
  "nbformat": 4,
  "nbformat_minor": 5
}